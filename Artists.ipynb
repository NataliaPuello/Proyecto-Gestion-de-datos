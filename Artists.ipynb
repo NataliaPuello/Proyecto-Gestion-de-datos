{
 "cells": [
  {
   "cell_type": "code",
   "execution_count": 32,
   "id": "17597160",
   "metadata": {},
   "outputs": [
    {
     "name": "stderr",
     "output_type": "stream",
     "text": [
      "<>:11: DeprecationWarning: invalid escape sequence '\\['\n",
      "<>:11: DeprecationWarning: invalid escape sequence '\\['\n",
      "/tmp/ipykernel_10321/2783857120.py:11: DeprecationWarning: invalid escape sequence '\\['\n",
      "  df.loc[index,column] = re.sub(\"[\\[\\]']\", \"\", new_string)\n"
     ]
    }
   ],
   "source": [
    "## Own functions to work in artist spotify \n",
    "## Defined in the order of use\n",
    "\n",
    "def formatting_str(column, df):\n",
    "    \" To clean genres\"\n",
    "    for index in df.index:\n",
    "        if df.loc[index,column]=='[]':\n",
    "            df.loc[index,column] = 'unknown'\n",
    "        else:\n",
    "            new_string = df.loc[index,column]\n",
    "            df.loc[index,column] = re.sub(\"[\\[\\]']\", \"\", new_string)\n",
    "    return df\n",
    "\n",
    "\n",
    "def gen_database():\n",
    "    genres = []\n",
    "    for index in df_artist.index:\n",
    "        new_string = df_artist.loc[index,'genres']\n",
    "        new_string = new_string.split(\",\")\n",
    "        for genre in new_string:\n",
    "            if genre not in genres:\n",
    "                genres.append(genre) \n",
    "\n",
    "    genres = [genre.strip() for genre in genres]# droping initial and final blank characters\n",
    "    genres = list(set(genres))          \n",
    "    database = {}\n",
    "    alpha =60\n",
    "    mainly = ['unknown','disco','metal', 'blues', 'jazz', 'rock', 'rap', 'hip hop', 'reggae',\n",
    "                     'pop', 'indie', 'ballad', 'folclor', 'folk', 'gospel',\n",
    "                     'ska', 'punk', 'country', 'electronic','soul', 'opera',\n",
    "                     'cumbia', 'techno', 'alternative', 'bolero', 'trap','vallenato',\n",
    "                     'grunge','corrido','flamenco', 'trio', 'motivation', 'classical', 'instrumental',\n",
    "                     'funk', 'hardcore', 'bachata','merengue', 'salsa', 'ranchera', 'orchestra', \n",
    "                      'tango', 'opera', 'son cubano', 'banda','percusion','samba','mambo']\n",
    "    \n",
    "    genres = [x.replace(\" \",\"\") for x in genres]\n",
    "\n",
    "    for main in mainly:\n",
    "        database[main] = []\n",
    "\n",
    "    for main in mainly:\n",
    "        for genre in genres:\n",
    "            if main in genre:\n",
    "                database[main].append(genre)\n",
    "\n",
    "    for main in mainly:\n",
    "        for genre in genres:\n",
    "            if fuzz.ratio(main, genre)>alpha:\n",
    "                database[main].append(genre)\n",
    "\n",
    "    # All not categorized going to other\n",
    "    categorized = []\n",
    "    for key in database:\n",
    "        for item in database[key]:\n",
    "            if item not in categorized:\n",
    "                categorized.append(item)\n",
    "    database['other'] = list(set(genres) - set(categorized))\n",
    "    \n",
    "    return database \n",
    "\n",
    "\n",
    "def return_key(genre, database):\n",
    "    \"\"\"This function will return us the general genre\n",
    "        We can improve this function when appear in more\n",
    "        of a key uses fuzzy to math more adecuately actually is greedy\n",
    "    \"\"\"\n",
    "    paired = []\n",
    "    for key in database:\n",
    "        for element in database[key]:\n",
    "            paired.append((element,key))\n",
    "    index = 0\n",
    "    for pair in paired:\n",
    "        if genre == pair[0]:\n",
    "            break\n",
    "        index +=1\n",
    "    result = paired[index][1]\n",
    "    return result\n",
    "\n",
    "\n",
    "def standard_row(row,database):\n",
    "    \"\"\"\n",
    "    This function allow me put all genres of a column in a standard way\n",
    "    \"\"\"\n",
    "    replaced = row.split(\",\")\n",
    "    replaced = [x.replace(\" \",\"\") for x in replaced]\n",
    "    replaced = [return_key(x,database) for x in replaced]  # Applyng the function of homogenize a single word\n",
    "    replaced = ','.join(replaced)\n",
    "    return  replaced\n",
    "\n",
    "mainly = ['unknown','disco','metal', 'blues', 'jazz', 'rock', 'rap', 'hip hop', 'reggae',\n",
    "                     'pop', 'indie', 'ballad', 'folclor', 'folk', 'gospel',\n",
    "                     'ska', 'punk', 'country', 'electronic','soul', 'opera',\n",
    "                     'cumbia', 'techno', 'alternative', 'bolero', 'trap','vallenato',\n",
    "                     'grunge','corrido','flamenco', 'trio', 'motivation', 'classical', 'instrumental',\n",
    "                     'funk', 'hardcore', 'bachata','merengue', 'salsa', 'ranchera', 'orchestra', \n",
    "                      'tango', 'opera', 'son cubano', 'banda','percusion','samba','mambo']\n",
    "mainly.append('other')\n",
    "\n",
    "scores = {}\n",
    "for main in mainly:\n",
    "    if (main=='other'):\n",
    "        scores[main]=0\n",
    "    elif (main=='unknown'):\n",
    "        scores[main]=-1\n",
    "    else:\n",
    "        scores[main]=1\n",
    "\n",
    "\n",
    "def main_genre(row,mainly,scores):\n",
    "    genres = row.split(',')\n",
    "    genres_score = [scores[genre] for genre in genres]\n",
    "    index = genres_score.index(max(genres_score))\n",
    "    main_genre = genres[index]\n",
    "    return main_genre"
   ]
  },
  {
   "cell_type": "code",
   "execution_count": 33,
   "id": "3120b6da",
   "metadata": {},
   "outputs": [],
   "source": [
    "import re\n",
    "import numpy as np\n",
    "import pandas as pd\n",
    "from thefuzz import fuzz, process"
   ]
  },
  {
   "cell_type": "code",
   "execution_count": 34,
   "id": "442218c8",
   "metadata": {},
   "outputs": [],
   "source": [
    "df_artist = pd.read_csv(\"artists_mod.csv\")"
   ]
  },
  {
   "cell_type": "code",
   "execution_count": 35,
   "id": "656697b4",
   "metadata": {},
   "outputs": [
    {
     "data": {
      "text/plain": [
       "\"\\nsymbols = []\\nfor index in df_artist.index:\\n    print(df_artist.loc[index,'genres'],index)\\n    for symb in df_artist.loc[index,'genres']:\\n        if symb not in symbols:\\n            symbols.append(symb)\\n\""
      ]
     },
     "execution_count": 35,
     "metadata": {},
     "output_type": "execute_result"
    }
   ],
   "source": [
    "\"\"\"\n",
    "symbols = []\n",
    "for index in df_artist.index:\n",
    "    print(df_artist.loc[index,'genres'],index)\n",
    "    for symb in df_artist.loc[index,'genres']:\n",
    "        if symb not in symbols:\n",
    "            symbols.append(symb)\n",
    "\"\"\""
   ]
  },
  {
   "cell_type": "code",
   "execution_count": 36,
   "id": "be33d34c",
   "metadata": {},
   "outputs": [
    {
     "data": {
      "text/plain": [
       "\"\\nfor genre in genres[0:20]:\\n    df_artist[genre]=''\\n    for index in df_artist.index[560:600]:\\n        if bool(re.fullmatch(genre, df_artist.loc[index,'genres'])):\\n            df_artist.loc[index,genre] = 1\\n\""
      ]
     },
     "execution_count": 36,
     "metadata": {},
     "output_type": "execute_result"
    }
   ],
   "source": [
    "\"\"\"\n",
    "for genre in genres[0:20]:\n",
    "    df_artist[genre]=''\n",
    "    for index in df_artist.index[560:600]:\n",
    "        if bool(re.fullmatch(genre, df_artist.loc[index,'genres'])):\n",
    "            df_artist.loc[index,genre] = 1\n",
    "\"\"\""
   ]
  },
  {
   "cell_type": "code",
   "execution_count": 37,
   "id": "76c2c3f1",
   "metadata": {},
   "outputs": [],
   "source": [
    "# Recap"
   ]
  },
  {
   "cell_type": "code",
   "execution_count": 38,
   "id": "71260173",
   "metadata": {},
   "outputs": [
    {
     "data": {
      "text/plain": [
       "'\\ndf_artist = pd.read_csv(\"artists_mod.csv\")\\nprint(df_artist[\\'genres\\'].isnull().sum())\\ndf_artist = formatting_str(\\'genres\\',df_artist)\\nprint(df_artist[\\'genres\\'].isnull().sum())\\ndatabase = gen_database()\\nprint(df_artist[\\'genres\\'].isnull().sum())\\n\\ndf_artist[\\'genres\\'] = df_artist[\\'genres\\'].apply(lambda x: standard_row(x,database))\\n\\ndf_artist.to_csv(\"remaster.csv\")\\n'"
      ]
     },
     "execution_count": 38,
     "metadata": {},
     "output_type": "execute_result"
    }
   ],
   "source": [
    "\"\"\"\n",
    "df_artist = pd.read_csv(\"artists_mod.csv\")\n",
    "print(df_artist['genres'].isnull().sum())\n",
    "df_artist = formatting_str('genres',df_artist)\n",
    "print(df_artist['genres'].isnull().sum())\n",
    "database = gen_database()\n",
    "print(df_artist['genres'].isnull().sum())\n",
    "\n",
    "df_artist['genres'] = df_artist['genres'].apply(lambda x: standard_row(x,database))\n",
    "\n",
    "df_artist.to_csv(\"remaster.csv\")\n",
    "\"\"\""
   ]
  },
  {
   "cell_type": "code",
   "execution_count": 75,
   "id": "f01392ad",
   "metadata": {},
   "outputs": [],
   "source": [
    "# Second part \n",
    "df = pd.read_csv(\"remaster.csv\")"
   ]
  },
  {
   "cell_type": "code",
   "execution_count": 41,
   "id": "16fb86b4",
   "metadata": {},
   "outputs": [],
   "source": [
    "df['main_genre'] = df['genres'].apply(lambda x : main_genre(x,mainly,scores))\n",
    "df.drop(columns=['Unnamed: 0', 'id', 'genres', 'name'], inplace=True)"
   ]
  },
  {
   "cell_type": "code",
   "execution_count": 50,
   "id": "27cee61b",
   "metadata": {},
   "outputs": [
    {
     "name": "stdout",
     "output_type": "stream",
     "text": [
      "float64 followers\n",
      "int64 popularity\n",
      "object main_genre\n",
      "3\n",
      "3\n"
     ]
    },
    {
     "name": "stderr",
     "output_type": "stream",
     "text": [
      "/home/ivan/.local/lib/python3.10/site-packages/scipy/stats/_morestats.py:1800: UserWarning: p-value may not be accurate for N > 5000.\n",
      "  warnings.warn(\"p-value may not be accurate for N > 5000.\")\n",
      "/tmp/ipykernel_10321/2514147981.py:21: FutureWarning: In future versions `DataFrame.to_latex` is expected to utilise the base implementation of `Styler.to_latex` for formatting and rendering. The arguments signature may therefore change. It is recommended instead to use `DataFrame.style.to_latex` which also contains additional functionality.\n",
      "  mytable.to_latex('tableOne.tex')\n"
     ]
    }
   ],
   "source": [
    "from tableone  import TableOne, load_dataset\n",
    "from scipy import stats\n",
    "categorial = []\n",
    "nonormal = []\n",
    "normal = []\n",
    "for t in df.columns:\n",
    "    print(df[t].dtypes, t)\n",
    "    if df[t].dtypes==\"object\" or df[t].dtypes.name=='category':\n",
    "        categorial.append(t)\n",
    "    if df[t].dtypes==\"int64\" or df[t].dtypes==\"float64\":\n",
    "            n,p = stats.shapiro(df[t])\n",
    "            if p<0.05:\n",
    "                nonormal.append(t)\n",
    "            else: \n",
    "                normal.append(t)\n",
    "                \n",
    "print(len(df.columns)) \n",
    "print(len(normal) + len(nonormal) + len(categorial))\n",
    "mytable = TableOne(df,categorical=categorial, nonnormal=nonormal)\n",
    "mytable\n",
    "mytable.to_latex('tableOne.tex')"
   ]
  }
 ],
 "metadata": {
  "kernelspec": {
   "display_name": "Python 3 (ipykernel)",
   "language": "python",
   "name": "python3"
  },
  "language_info": {
   "codemirror_mode": {
    "name": "ipython",
    "version": 3
   },
   "file_extension": ".py",
   "mimetype": "text/x-python",
   "name": "python",
   "nbconvert_exporter": "python",
   "pygments_lexer": "ipython3",
   "version": "3.10.6"
  }
 },
 "nbformat": 4,
 "nbformat_minor": 5
}
