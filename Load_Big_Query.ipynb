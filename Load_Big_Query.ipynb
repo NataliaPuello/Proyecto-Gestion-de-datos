{
  "cells": [
    {
      "cell_type": "markdown",
      "id": "4bc0302f-c459-4224-80e3-0384f7c92718",
      "metadata": {
        "id": "4bc0302f-c459-4224-80e3-0384f7c92718"
      },
      "source": [
        "<a href=\"https://colab.research.google.com/github/datapreparation-javeriana/etl-tutorial/blob/master/mongodb-to-bigquery.ipynb\" target=\"_parent\"><img src=\"https://colab.research.google.com/assets/colab-badge.svg\" alt=\"Open In Colab\"/></a>"
      ]
    },
    {
      "cell_type": "markdown",
      "source": [
        "**EXTRACT**"
      ],
      "metadata": {
        "id": "G4R6Jew-SgaL"
      },
      "id": "G4R6Jew-SgaL"
    },
    {
      "cell_type": "code",
      "source": [
        "import pandas as pd\n",
        "\n",
        "#Lectura de datasets\n",
        "tracks_df = pd.read_csv(\"/content/tracks_mod.csv\")\n",
        "df_artist = pd.read_csv(\"/content/artists_mod.csv\")"
      ],
      "metadata": {
        "id": "XFxcIpEdSfp6"
      },
      "id": "XFxcIpEdSfp6",
      "execution_count": null,
      "outputs": []
    },
    {
      "cell_type": "markdown",
      "source": [
        "**TRANSFORM**"
      ],
      "metadata": {
        "id": "-rcNe5nwSny6"
      },
      "id": "-rcNe5nwSny6"
    },
    {
      "cell_type": "code",
      "source": [
        "# ----------------------TRACKS-----------------------------------------------------------------\n",
        "\n",
        "#Eliminar filas con nombres de canción vacíos\n",
        "tracks_df = tracks_df.dropna(subset=['name']) \n",
        "\n",
        "#Busca las fechas que tienen formato \"year xxxx\"\n",
        "pos = tracks_df[[\"release_date\"]][tracks_df[[\"release_date\"]].release_date.str.contains('Year')].index\n",
        "\n",
        "#Reemplaza fechas con formato \"year xxxx\" con el año\n",
        "for i in pos:\n",
        "  tracks_df.loc[i,'release_date'] = str(tracks_df.loc[i,'release_date'][-4:])\n",
        "\n",
        "#Unificar formato de fechas\n",
        "from datetime import datetime\n",
        "from dateutil.parser import parse\n",
        "import datetime\n",
        "\n",
        "fechas = tracks_df[\"release_date\"]\n",
        "\n",
        "formatos = ['%Y-%m-%d','%Y-%m', '%Y/%m/%d','%Y-%Y']\n",
        "\n",
        "#Lista de formatos comunes\n",
        "formato_comun = '%Y'\n",
        "\n",
        "#Convertir todas las fechas a un formato común\n",
        "fechas_unificadas = []\n",
        "for fecha in fechas:\n",
        "    try:\n",
        "        fecha_datetime = datetime.datetime.strptime(fecha, formato_comun)\n",
        "        fechas_unificadas.append(fecha_datetime.year)\n",
        "    except ValueError:\n",
        "        fecha_datetime = parse(fecha)\n",
        "        fechas_unificadas.append(fecha_datetime.year)\n",
        "tracks_df['release_date'] = fechas_unificadas\n",
        "\n",
        "#Conversión de la duración de las canciones de milisegundos a minutos\n",
        "tracks_df[\"duration_ms\"] = tracks_df[\"duration_ms\"]/60000\n",
        "\n",
        "#Se cambia el nombre de la columna duration_ms a duration_min\n",
        "tracks_df = tracks_df.rename(columns={'duration_ms': 'duration_min'})\n",
        "\n",
        "#Se reemplazan los valores vacíos de ciertas variables por su media \n",
        "mean_popularity = tracks_df[\"popularity\"].mean()         \n",
        "tracks_df[\"popularity\"] = tracks_df[\"popularity\"].fillna(mean_popularity)\n",
        "tracks_df[\"popularity\"] = tracks_df[\"popularity\"].astype(int)\n",
        "\n",
        "mean_danc = tracks_df[\"danceability\"].mean()         \n",
        "tracks_df[\"danceability\"] = tracks_df[\"danceability\"].fillna(mean_danc)\n",
        "\n",
        "mean_energy = tracks_df[\"energy\"].mean()        \n",
        "tracks_df[\"energy\"] = tracks_df[\"energy\"].fillna(mean_energy)\n",
        "\n",
        "mean_key = tracks_df[\"key\"].mean()        \n",
        "tracks_df[\"key\"] = tracks_df[\"key\"].fillna(mean_key)\n",
        "\n",
        "mean_loudness = tracks_df[\"loudness\"].mean()        \n",
        "tracks_df[\"loudness\"] = tracks_df[\"loudness\"].fillna(mean_loudness)\n",
        "\n",
        "mean_speech = tracks_df[\"speechiness\"].mean()        \n",
        "tracks_df[\"speechiness\"] = tracks_df[\"speechiness\"].fillna(mean_speech)\n",
        "\n",
        "mean_acous = tracks_df[\"acousticness\"].mean()        \n",
        "tracks_df[\"acousticness\"] = tracks_df[\"acousticness\"].fillna(mean_acous)\n",
        "\n",
        "mean_instr = tracks_df[\"instrumentalness\"].mean()        \n",
        "tracks_df[\"instrumentalness\"] = tracks_df[\"instrumentalness\"].fillna(mean_instr)\n",
        "\n",
        "mean_live = tracks_df[\"liveness\"].mean()        \n",
        "tracks_df[\"liveness\"] = tracks_df[\"liveness\"].fillna(mean_live)\n",
        "\n",
        "mean_val = tracks_df[\"valence\"].mean()        \n",
        "tracks_df[\"valence\"] = tracks_df[\"valence\"].fillna(mean_val)\n",
        "\n",
        "mean_tempo = tracks_df[\"tempo\"].mean()        \n",
        "tracks_df[\"tempo\"] = tracks_df[\"tempo\"].fillna(mean_tempo)\n",
        "\n",
        "#Convirtiendo variable speechiness a categórica 1 a 0.66 (alto sp), 0.66 a 0.33 (medio sp) y 0.33 a 0 (bajo sp)\n",
        "datos = tracks_df[\"speechiness\"]\n",
        "nuevos = []\n",
        "for i in datos:\n",
        "  if i >= 0.66:\n",
        "    nuevos.append(\"Alto SP\") \n",
        "  elif i >= 0.33:\n",
        "    nuevos.append(\"Medio SP\")\n",
        "  else:\n",
        "    nuevos.append(\"Bajo SP\")"
      ],
      "metadata": {
        "id": "led8Kva7SfGW"
      },
      "id": "led8Kva7SfGW",
      "execution_count": null,
      "outputs": []
    },
    {
      "cell_type": "code",
      "source": [
        "# ----------------------ARTISTS-----------------------------------------------------------------\n",
        "## Own functions to work in artist spotify \n",
        "## Defined in the order of use\n",
        "\n",
        "def formatting_str(column, df):\n",
        "    \" To clean genres\"\n",
        "    for index in df.index:\n",
        "        if df.loc[index,column]=='[]':\n",
        "            df.loc[index,column] = 'unknown'\n",
        "        else:\n",
        "            new_string = df.loc[index,column]\n",
        "            df.loc[index,column] = re.sub(\"[\\[\\]']\", \"\", new_string)\n",
        "    return df\n",
        "\n",
        "\n",
        "def gen_database():\n",
        "    genres = []\n",
        "    for index in df_artist.index:\n",
        "        new_string = df_artist.loc[index,'genres']\n",
        "        new_string = new_string.split(\",\")\n",
        "        for genre in new_string:\n",
        "            if genre not in genres:\n",
        "                genres.append(genre) \n",
        "\n",
        "    genres = [genre.strip() for genre in genres]# droping initial and final blank characters\n",
        "    genres = list(set(genres))          \n",
        "    database = {}\n",
        "    alpha =60\n",
        "    mainly = ['unknown','disco','metal', 'blues', 'jazz', 'rock', 'rap', 'hip hop', 'reggae',\n",
        "                     'pop', 'indie', 'ballad', 'folclor', 'folk', 'gospel',\n",
        "                     'ska', 'punk', 'country', 'electronic','soul', 'opera',\n",
        "                     'cumbia', 'techno', 'alternative', 'bolero', 'trap','vallenato',\n",
        "                     'grunge','corrido','flamenco', 'trio', 'motivation', 'classical', 'instrumental',\n",
        "                     'funk', 'hardcore', 'bachata','merengue', 'salsa', 'ranchera', 'orchestra', \n",
        "                      'tango', 'opera', 'son cubano', 'banda','percusion','samba','mambo']\n",
        "    \n",
        "    genres = [x.replace(\" \",\"\") for x in genres]\n",
        "\n",
        "    for main in mainly:\n",
        "        database[main] = []\n",
        "\n",
        "    for main in mainly:\n",
        "        for genre in genres:\n",
        "            if main in genre:\n",
        "                database[main].append(genre)\n",
        "\n",
        "    for main in mainly:\n",
        "        for genre in genres:\n",
        "            if fuzz.ratio(main, genre)>alpha:\n",
        "                database[main].append(genre)\n",
        "\n",
        "    # All not categorized going to other\n",
        "    categorized = []\n",
        "    for key in database:\n",
        "        for item in database[key]:\n",
        "            if item not in categorized:\n",
        "                categorized.append(item)\n",
        "    database['other'] = list(set(genres) - set(categorized))\n",
        "    \n",
        "    return database \n",
        "\n",
        "\n",
        "def return_key(genre, database):\n",
        "    \"\"\"This function will return us the general genre\n",
        "        We can improve this function when appear in more\n",
        "        of a key uses fuzzy to math more adecuately actually is greedy\n",
        "    \"\"\"\n",
        "    paired = []\n",
        "    for key in database:\n",
        "        for element in database[key]:\n",
        "            paired.append((element,key))\n",
        "    index = 0\n",
        "    for pair in paired:\n",
        "        if genre == pair[0]:\n",
        "            break\n",
        "        index +=1\n",
        "    result = paired[index][1]\n",
        "    return result\n",
        "\n",
        "\n",
        "def standard_row(row,database):\n",
        "    \"\"\"\n",
        "    This function allow me put all genres of a column in a standard way\n",
        "    \"\"\"\n",
        "    replaced = row.split(\",\")\n",
        "    replaced = [x.replace(\" \",\"\") for x in replaced]\n",
        "    replaced = [return_key(x,database) for x in replaced]  # Applyng the function of homogenize a single word\n",
        "    replaced = ','.join(replaced)\n",
        "    return  replaced\n",
        "\n",
        "mainly = ['unknown','disco','metal', 'blues', 'jazz', 'rock', 'rap', 'hip hop', 'reggae',\n",
        "                     'pop', 'indie', 'ballad', 'folclor', 'folk', 'gospel',\n",
        "                     'ska', 'punk', 'country', 'electronic','soul', 'opera',\n",
        "                     'cumbia', 'techno', 'alternative', 'bolero', 'trap','vallenato',\n",
        "                     'grunge','corrido','flamenco', 'trio', 'motivation', 'classical', 'instrumental',\n",
        "                     'funk', 'hardcore', 'bachata','merengue', 'salsa', 'ranchera', 'orchestra', \n",
        "                      'tango', 'opera', 'son cubano', 'banda','percusion','samba','mambo']\n",
        "mainly.append('other')\n",
        "\n",
        "scores = {}\n",
        "for main in mainly:\n",
        "    if (main=='other'):\n",
        "        scores[main]=0\n",
        "    elif (main=='unknown'):\n",
        "        scores[main]=-1\n",
        "    else:\n",
        "        scores[main]=1\n",
        "\n",
        "\n",
        "def main_genre(row,mainly,scores):\n",
        "    genres = row.split(',')\n",
        "    genres_score = [scores[genre] for genre in genres]\n",
        "    index = genres_score.index(max(genres_score))\n",
        "    main_genre = genres[index]\n",
        "    return main_genre\n",
        "\n"
      ],
      "metadata": {
        "id": "ky9IgovStTxR"
      },
      "id": "ky9IgovStTxR",
      "execution_count": null,
      "outputs": []
    },
    {
      "cell_type": "code",
      "source": [
        "!pip install thefuzz\n",
        "!pip install tableOne"
      ],
      "metadata": {
        "colab": {
          "base_uri": "https://localhost:8080/"
        },
        "id": "YVISgQFBwz6V",
        "outputId": "c22ec9f0-71a9-498d-837c-6fd57f5f01f1"
      },
      "id": "YVISgQFBwz6V",
      "execution_count": null,
      "outputs": [
        {
          "output_type": "stream",
          "name": "stdout",
          "text": [
            "Looking in indexes: https://pypi.org/simple, https://us-python.pkg.dev/colab-wheels/public/simple/\n",
            "Requirement already satisfied: thefuzz in /usr/local/lib/python3.9/dist-packages (0.19.0)\n",
            "Looking in indexes: https://pypi.org/simple, https://us-python.pkg.dev/colab-wheels/public/simple/\n",
            "Collecting tableOne\n",
            "  Downloading tableone-0.7.12-py3-none-any.whl (32 kB)\n",
            "Requirement already satisfied: statsmodels>=0.12.1 in /usr/local/lib/python3.9/dist-packages (from tableOne) (0.13.5)\n",
            "Requirement already satisfied: pandas>=1.2.1 in /usr/local/lib/python3.9/dist-packages (from tableOne) (1.4.4)\n",
            "Requirement already satisfied: numpy>=1.19.1 in /usr/local/lib/python3.9/dist-packages (from tableOne) (1.22.4)\n",
            "Requirement already satisfied: tabulate>=0.8.10 in /usr/local/lib/python3.9/dist-packages (from tableOne) (0.8.10)\n",
            "Requirement already satisfied: scipy>=1.7.0 in /usr/local/lib/python3.9/dist-packages (from tableOne) (1.10.1)\n",
            "Requirement already satisfied: pytz>=2020.1 in /usr/local/lib/python3.9/dist-packages (from pandas>=1.2.1->tableOne) (2022.7.1)\n",
            "Requirement already satisfied: python-dateutil>=2.8.1 in /usr/local/lib/python3.9/dist-packages (from pandas>=1.2.1->tableOne) (2.8.2)\n",
            "Requirement already satisfied: packaging>=21.3 in /usr/local/lib/python3.9/dist-packages (from statsmodels>=0.12.1->tableOne) (23.0)\n",
            "Requirement already satisfied: patsy>=0.5.2 in /usr/local/lib/python3.9/dist-packages (from statsmodels>=0.12.1->tableOne) (0.5.3)\n",
            "Requirement already satisfied: six in /usr/local/lib/python3.9/dist-packages (from patsy>=0.5.2->statsmodels>=0.12.1->tableOne) (1.15.0)\n",
            "Installing collected packages: tableOne\n",
            "Successfully installed tableOne-0.7.12\n"
          ]
        }
      ]
    },
    {
      "cell_type": "code",
      "source": [
        "import re\n",
        "import numpy as np\n",
        "import pandas as pd\n",
        "from thefuzz import fuzz, process\n",
        "\n",
        "\"\"\"\n",
        "symbols = []\n",
        "for index in df_artist.index:\n",
        "    print(df_artist.loc[index,'genres'],index)\n",
        "    for symb in df_artist.loc[index,'genres']:\n",
        "        if symb not in symbols:\n",
        "            symbols.append(symb)\n",
        "\"\"\"\n",
        "\n",
        "\"\"\"\n",
        "for genre in genres[0:20]:\n",
        "    df_artist[genre]=''\n",
        "    for index in df_artist.index[560:600]:\n",
        "        if bool(re.fullmatch(genre, df_artist.loc[index,'genres'])):\n",
        "            df_artist.loc[index,genre] = 1\n",
        "\"\"\"\n",
        "\n",
        "\"\"\"\n",
        "df_artist = pd.read_csv(\"artists_mod.csv\")\n",
        "print(df_artist['genres'].isnull().sum())\n",
        "df_artist = formatting_str('genres',df_artist)\n",
        "print(df_artist['genres'].isnull().sum())\n",
        "database = gen_database()\n",
        "print(df_artist['genres'].isnull().sum())\n",
        "\n",
        "df_artist['genres'] = df_artist['genres'].apply(lambda x: standard_row(x,database))\n",
        "\n",
        "df_artist.to_csv(\"remaster.csv\")\n",
        "\"\"\"\n",
        "\n",
        "# Second part \n",
        "df = pd.read_csv(\"/content/remaster.csv\")\n",
        "\n",
        "df['main_genre'] = df['genres'].apply(lambda x : main_genre(x,mainly,scores))\n",
        "df.drop(columns=['Unnamed: 0', 'id', 'genres', 'name'], inplace=True)\n",
        "df.to_csv(\"lastbase.csv\")\n",
        "\n",
        "from tableone  import TableOne, load_dataset\n",
        "from scipy import stats\n",
        "categorial = []\n",
        "nonormal = []\n",
        "normal = []\n",
        "for t in df.columns:\n",
        "    print(df[t].dtypes, t)\n",
        "    if df[t].dtypes==\"object\" or df[t].dtypes.name=='category':\n",
        "        categorial.append(t)\n",
        "    if df[t].dtypes==\"int64\" or df[t].dtypes==\"float64\":\n",
        "            n,p = stats.shapiro(df[t])\n",
        "            if p<0.05:\n",
        "                nonormal.append(t)\n",
        "            else: \n",
        "                normal.append(t)\n",
        "                \n",
        "print(len(df.columns)) \n",
        "print(len(normal) + len(nonormal) + len(categorial))\n",
        "mytable = TableOne(df,categorical=categorial, nonnormal=nonormal)\n",
        "mytable\n",
        "mytable.to_latex('tableOne.tex')\n",
        "\n",
        "artist_df = pd.read_csv(\"/content/lastbase.csv\")"
      ],
      "metadata": {
        "id": "GDv8Q3zyt2i-",
        "colab": {
          "base_uri": "https://localhost:8080/"
        },
        "outputId": "84e6ae4f-e4e7-4ae3-b25a-9524f2bcbf74"
      },
      "id": "GDv8Q3zyt2i-",
      "execution_count": null,
      "outputs": [
        {
          "output_type": "stream",
          "name": "stdout",
          "text": [
            "float64 followers\n",
            "int64 popularity\n",
            "object main_genre\n",
            "3\n",
            "3\n"
          ]
        },
        {
          "output_type": "stream",
          "name": "stderr",
          "text": [
            "/usr/local/lib/python3.9/dist-packages/scipy/stats/_morestats.py:1816: UserWarning: p-value may not be accurate for N > 5000.\n",
            "  warnings.warn(\"p-value may not be accurate for N > 5000.\")\n",
            "<ipython-input-36-9eaeec8cb11f>:63: FutureWarning: In future versions `DataFrame.to_latex` is expected to utilise the base implementation of `Styler.to_latex` for formatting and rendering. The arguments signature may therefore change. It is recommended instead to use `DataFrame.style.to_latex` which also contains additional functionality.\n",
            "  mytable.to_latex('tableOne.tex')\n"
          ]
        }
      ]
    },
    {
      "cell_type": "markdown",
      "id": "8b0f6e4c-e2b7-4d8c-b232-444d59a4e585",
      "metadata": {
        "id": "8b0f6e4c-e2b7-4d8c-b232-444d59a4e585"
      },
      "source": [
        "**LOAD**"
      ]
    },
    {
      "cell_type": "code",
      "execution_count": null,
      "id": "f3069c86-d86a-4ae3-8d6b-2216d9603149",
      "metadata": {
        "id": "f3069c86-d86a-4ae3-8d6b-2216d9603149"
      },
      "outputs": [],
      "source": [
        "import random\n",
        "import string\n",
        "\n",
        "import numpy as np\n",
        "import pandas as pd\n",
        "\n",
        "from google.cloud import bigquery\n",
        "from google.oauth2 import service_account"
      ]
    },
    {
      "cell_type": "code",
      "source": [
        "credentials = service_account.Credentials.from_service_account_file(\"/content/gestion-bases-datos-5cb2829adf4e.json\", scopes=[\"https://www.googleapis.com/auth/cloud-platform\"])"
      ],
      "metadata": {
        "id": "g9TAjPtuHRal"
      },
      "id": "g9TAjPtuHRal",
      "execution_count": null,
      "outputs": []
    },
    {
      "cell_type": "code",
      "execution_count": null,
      "id": "933d1b10-9d91-465f-870f-bc78a16a7964",
      "metadata": {
        "id": "933d1b10-9d91-465f-870f-bc78a16a7964"
      },
      "outputs": [],
      "source": [
        "client = bigquery.Client(credentials=credentials, project=credentials.project_id)"
      ]
    },
    {
      "cell_type": "code",
      "execution_count": null,
      "id": "09b7d626-8be6-4307-890f-be1daf21d9e1",
      "metadata": {
        "id": "09b7d626-8be6-4307-890f-be1daf21d9e1"
      },
      "outputs": [],
      "source": [
        "# Creating the job config\n",
        "job_config = bigquery.LoadJobConfig(\n",
        "    schema=[\n",
        "        # Supported datatypes: https://cloud.google.com/bigquery/docs/reference/standard-sql/data-types\n",
        "        bigquery.SchemaField(\"id\", bigquery.enums.SqlTypeNames.STRING), #revisar string\n",
        "        bigquery.SchemaField(\"name\", bigquery.enums.SqlTypeNames.STRING),\n",
        "        bigquery.SchemaField(\"popularity\", bigquery.enums.SqlTypeNames.INT64),\n",
        "        bigquery.SchemaField(\"duration_min\", bigquery.enums.SqlTypeNames.FLOAT64),\n",
        "        bigquery.SchemaField(\"explicit\", bigquery.enums.SqlTypeNames.INT64),\n",
        "        bigquery.SchemaField(\"artists\", bigquery.enums.SqlTypeNames.STRING),\n",
        "        bigquery.SchemaField(\"id_artists\", bigquery.enums.SqlTypeNames.STRING),\n",
        "        bigquery.SchemaField(\"release_date\", bigquery.enums.SqlTypeNames.INT64),\n",
        "        bigquery.SchemaField(\"danceability\", bigquery.enums.SqlTypeNames.FLOAT64),\n",
        "        bigquery.SchemaField(\"energy\", bigquery.enums.SqlTypeNames.FLOAT64),\n",
        "        bigquery.SchemaField(\"key\", bigquery.enums.SqlTypeNames.FLOAT64),\n",
        "        bigquery.SchemaField(\"loudness\", bigquery.enums.SqlTypeNames.FLOAT64),\n",
        "        bigquery.SchemaField(\"mode\", bigquery.enums.SqlTypeNames.FLOAT64),\n",
        "        bigquery.SchemaField(\"speechiness\", bigquery.enums.SqlTypeNames.FLOAT64),\n",
        "        bigquery.SchemaField(\"acousticness\", bigquery.enums.SqlTypeNames.FLOAT64),\n",
        "        bigquery.SchemaField(\"instrumentalness\", bigquery.enums.SqlTypeNames.FLOAT64),\n",
        "        bigquery.SchemaField(\"liveness\", bigquery.enums.SqlTypeNames.FLOAT64),\n",
        "        bigquery.SchemaField(\"valence\", bigquery.enums.SqlTypeNames.FLOAT64),\n",
        "        bigquery.SchemaField(\"tempo\", bigquery.enums.SqlTypeNames.FLOAT64),\n",
        "        bigquery.SchemaField(\"time_signature\", bigquery.enums.SqlTypeNames.FLOAT64)\n",
        "    ],\n",
        "    # Drod and re-create table, if exist\n",
        "    write_disposition=\"WRITE_TRUNCATE\"\n",
        ")"
      ]
    },
    {
      "cell_type": "code",
      "source": [
        "def get_random_string(length):\n",
        "    # choose from all lowercase letter\n",
        "    letters = string.ascii_lowercase\n",
        "    return \"\".join(random.choice(letters) for i in range(length))"
      ],
      "metadata": {
        "id": "YPex0_5kRN_y"
      },
      "id": "YPex0_5kRN_y",
      "execution_count": null,
      "outputs": []
    },
    {
      "cell_type": "code",
      "execution_count": null,
      "id": "a66f1495-2768-4669-8670-14a1dc8703fd",
      "metadata": {
        "id": "a66f1495-2768-4669-8670-14a1dc8703fd",
        "colab": {
          "base_uri": "https://localhost:8080/"
        },
        "outputId": "bf6192e5-8b52-4c1a-f041-69652c95a998"
      },
      "outputs": [
        {
          "output_type": "stream",
          "name": "stdout",
          "text": [
            "Gestion_bases_datos.tracks_xqnx\n"
          ]
        }
      ],
      "source": [
        "BQ_TABLE_NAME = f\"Gestion_bases_datos.tracks_{get_random_string(4)}\"\n",
        "print(BQ_TABLE_NAME)"
      ]
    },
    {
      "cell_type": "code",
      "execution_count": null,
      "id": "d5792a43-61b1-434b-b919-c3518fcf0df9",
      "metadata": {
        "id": "d5792a43-61b1-434b-b919-c3518fcf0df9",
        "colab": {
          "base_uri": "https://localhost:8080/"
        },
        "outputId": "35830c1f-2541-4c1f-f14d-a7ad41887f96"
      },
      "outputs": [
        {
          "output_type": "execute_result",
          "data": {
            "text/plain": [
              "LoadJob<project=gestion-bases-datos, location=US, id=04b2b746-f3e2-47f5-ab36-d4f8e2b42fc2>"
            ]
          },
          "metadata": {},
          "execution_count": 52
        }
      ],
      "source": [
        "# Sending the job to BigQuery\n",
        "job = client.load_table_from_dataframe(tracks_df, BQ_TABLE_NAME, job_config=job_config)\n",
        "job.result()"
      ]
    },
    {
      "cell_type": "code",
      "source": [
        "# Creating the job config\n",
        "job_config = bigquery.LoadJobConfig(\n",
        "    schema=[\n",
        "        # Supported datatypes: https://cloud.google.com/bigquery/docs/reference/standard-sql/data-types\n",
        "        bigquery.SchemaField(\"followers\", bigquery.enums.SqlTypeNames.FLOAT64), #revisar string\n",
        "        bigquery.SchemaField(\"popularity\", bigquery.enums.SqlTypeNames.INT64),\n",
        "        bigquery.SchemaField(\"main_genre\", bigquery.enums.SqlTypeNames.STRING)\n",
        "    ],\n",
        "    # Drod and re-create table, if exist\n",
        "    write_disposition=\"WRITE_TRUNCATE\"\n",
        ")"
      ],
      "metadata": {
        "id": "y3r3ytR2jr9H"
      },
      "id": "y3r3ytR2jr9H",
      "execution_count": null,
      "outputs": []
    },
    {
      "cell_type": "code",
      "source": [
        "BQ_TABLE_NAME_A = f\"Gestion_bases_datos.artists_{get_random_string(4)}\"\n",
        "print(BQ_TABLE_NAME_A)"
      ],
      "metadata": {
        "colab": {
          "base_uri": "https://localhost:8080/"
        },
        "id": "VkHtziIpkCQD",
        "outputId": "f8a3dec9-a3f2-433d-c050-8168cd8ccd83"
      },
      "id": "VkHtziIpkCQD",
      "execution_count": null,
      "outputs": [
        {
          "output_type": "stream",
          "name": "stdout",
          "text": [
            "Gestion_bases_datos.artists_plmr\n"
          ]
        }
      ]
    },
    {
      "cell_type": "code",
      "source": [
        "# Sending the job to BigQuery\n",
        "job = client.load_table_from_dataframe(artist_df, BQ_TABLE_NAME_A, job_config=job_config)\n",
        "job.result()"
      ],
      "metadata": {
        "colab": {
          "base_uri": "https://localhost:8080/"
        },
        "id": "4sASytZWkI83",
        "outputId": "676441f0-d1db-46c4-cc68-d00dd55ae394"
      },
      "id": "4sASytZWkI83",
      "execution_count": null,
      "outputs": [
        {
          "output_type": "execute_result",
          "data": {
            "text/plain": [
              "LoadJob<project=gestion-bases-datos, location=US, id=1d42c600-a81b-4050-b088-6ff4d9c229c0>"
            ]
          },
          "metadata": {},
          "execution_count": 58
        }
      ]
    },
    {
      "cell_type": "code",
      "execution_count": null,
      "id": "9364e9ca-c45e-4f32-b428-43e7af0b137a",
      "metadata": {
        "id": "9364e9ca-c45e-4f32-b428-43e7af0b137a",
        "colab": {
          "base_uri": "https://localhost:8080/"
        },
        "outputId": "1be11e35-1434-4b82-dce2-faf4cd95056d"
      },
      "outputs": [
        {
          "output_type": "stream",
          "name": "stdout",
          "text": [
            "Loaded 586601 rows and 20 columns to Gestion_bases_datos.tracks_xqnx\n"
          ]
        }
      ],
      "source": [
        "# Verifying if table was successfully created or updated\n",
        "table = client.get_table(BQ_TABLE_NAME)\n",
        "print(\"Loaded {} rows and {} columns to {}\".format(table.num_rows, len(table.schema), BQ_TABLE_NAME))"
      ]
    },
    {
      "cell_type": "code",
      "source": [
        "# Verifying if table was successfully created or updated\n",
        "table = client.get_table(BQ_TABLE_NAME_A)\n",
        "print(\"Loaded {} rows and {} columns to {}\".format(table.num_rows, len(table.schema), BQ_TABLE_NAME_A))"
      ],
      "metadata": {
        "colab": {
          "base_uri": "https://localhost:8080/"
        },
        "id": "3h3-Ci3-kOMw",
        "outputId": "359aebea-c3a1-46ca-8701-5dd55a683643"
      },
      "id": "3h3-Ci3-kOMw",
      "execution_count": null,
      "outputs": [
        {
          "output_type": "stream",
          "name": "stdout",
          "text": [
            "Loaded 1162095 rows and 4 columns to Gestion_bases_datos.artists_plmr\n"
          ]
        }
      ]
    },
    {
      "cell_type": "code",
      "execution_count": null,
      "id": "0a15dc1b-07d3-4bd8-b2a9-ab922a745f90",
      "metadata": {
        "id": "0a15dc1b-07d3-4bd8-b2a9-ab922a745f90",
        "colab": {
          "base_uri": "https://localhost:8080/",
          "height": 358
        },
        "outputId": "a2f9d115-280c-42fb-8b82-9e69dce6861e"
      },
      "outputs": [
        {
          "output_type": "error",
          "ename": "KeyboardInterrupt",
          "evalue": "ignored",
          "traceback": [
            "\u001b[0;31m---------------------------------------------------------------------------\u001b[0m",
            "\u001b[0;31mKeyboardInterrupt\u001b[0m                         Traceback (most recent call last)",
            "\u001b[0;32m<ipython-input-61-b0e4c8663912>\u001b[0m in \u001b[0;36m<module>\u001b[0;34m\u001b[0m\n\u001b[1;32m      1\u001b[0m \u001b[0mquery\u001b[0m \u001b[0;34m=\u001b[0m \u001b[0;34mf\"\"\"SELECT * FROM `gestion-bases-datos.{BQ_TABLE_NAME}`\"\"\"\u001b[0m\u001b[0;34m\u001b[0m\u001b[0;34m\u001b[0m\u001b[0m\n\u001b[0;32m----> 2\u001b[0;31m \u001b[0mpd\u001b[0m\u001b[0;34m.\u001b[0m\u001b[0mread_gbq\u001b[0m\u001b[0;34m(\u001b[0m\u001b[0mquery\u001b[0m\u001b[0;34m,\u001b[0m \u001b[0mcredentials\u001b[0m\u001b[0;34m=\u001b[0m\u001b[0mcredentials\u001b[0m\u001b[0;34m)\u001b[0m\u001b[0;34m\u001b[0m\u001b[0;34m\u001b[0m\u001b[0m\n\u001b[0m",
            "\u001b[0;32m/usr/local/lib/python3.9/dist-packages/pandas/io/gbq.py\u001b[0m in \u001b[0;36mread_gbq\u001b[0;34m(query, project_id, index_col, col_order, reauth, auth_local_webserver, dialect, location, configuration, credentials, use_bqstorage_api, max_results, progress_bar_type)\u001b[0m\n\u001b[1;32m    181\u001b[0m     \u001b[0;31m# END: new kwargs\u001b[0m\u001b[0;34m\u001b[0m\u001b[0;34m\u001b[0m\u001b[0m\n\u001b[1;32m    182\u001b[0m \u001b[0;34m\u001b[0m\u001b[0m\n\u001b[0;32m--> 183\u001b[0;31m     return pandas_gbq.read_gbq(\n\u001b[0m\u001b[1;32m    184\u001b[0m         \u001b[0mquery\u001b[0m\u001b[0;34m,\u001b[0m\u001b[0;34m\u001b[0m\u001b[0;34m\u001b[0m\u001b[0m\n\u001b[1;32m    185\u001b[0m         \u001b[0mproject_id\u001b[0m\u001b[0;34m=\u001b[0m\u001b[0mproject_id\u001b[0m\u001b[0;34m,\u001b[0m\u001b[0;34m\u001b[0m\u001b[0;34m\u001b[0m\u001b[0m\n",
            "\u001b[0;32m/usr/local/lib/python3.9/dist-packages/pandas_gbq/gbq.py\u001b[0m in \u001b[0;36mread_gbq\u001b[0;34m(query_or_table, project_id, index_col, col_order, reauth, auth_local_webserver, dialect, location, configuration, credentials, use_bqstorage_api, max_results, verbose, private_key, progress_bar_type, dtypes)\u001b[0m\n\u001b[1;32m    919\u001b[0m \u001b[0;34m\u001b[0m\u001b[0m\n\u001b[1;32m    920\u001b[0m     \u001b[0;32mif\u001b[0m \u001b[0m_is_query\u001b[0m\u001b[0;34m(\u001b[0m\u001b[0mquery_or_table\u001b[0m\u001b[0;34m)\u001b[0m\u001b[0;34m:\u001b[0m\u001b[0;34m\u001b[0m\u001b[0;34m\u001b[0m\u001b[0m\n\u001b[0;32m--> 921\u001b[0;31m         final_df = connector.run_query(\n\u001b[0m\u001b[1;32m    922\u001b[0m             \u001b[0mquery_or_table\u001b[0m\u001b[0;34m,\u001b[0m\u001b[0;34m\u001b[0m\u001b[0;34m\u001b[0m\u001b[0m\n\u001b[1;32m    923\u001b[0m             \u001b[0mconfiguration\u001b[0m\u001b[0;34m=\u001b[0m\u001b[0mconfiguration\u001b[0m\u001b[0;34m,\u001b[0m\u001b[0;34m\u001b[0m\u001b[0;34m\u001b[0m\u001b[0m\n",
            "\u001b[0;32m/usr/local/lib/python3.9/dist-packages/pandas_gbq/gbq.py\u001b[0m in \u001b[0;36mrun_query\u001b[0;34m(self, query, max_results, progress_bar_type, **kwargs)\u001b[0m\n\u001b[1;32m    527\u001b[0m             \u001b[0mquery_reply\u001b[0m\u001b[0;34m.\u001b[0m\u001b[0mdestination\u001b[0m\u001b[0;34m,\u001b[0m \u001b[0mmax_results\u001b[0m\u001b[0;34m=\u001b[0m\u001b[0mmax_results\u001b[0m\u001b[0;34m\u001b[0m\u001b[0;34m\u001b[0m\u001b[0m\n\u001b[1;32m    528\u001b[0m         )\n\u001b[0;32m--> 529\u001b[0;31m         return self._download_results(\n\u001b[0m\u001b[1;32m    530\u001b[0m             \u001b[0mrows_iter\u001b[0m\u001b[0;34m,\u001b[0m\u001b[0;34m\u001b[0m\u001b[0;34m\u001b[0m\u001b[0m\n\u001b[1;32m    531\u001b[0m             \u001b[0mmax_results\u001b[0m\u001b[0;34m=\u001b[0m\u001b[0mmax_results\u001b[0m\u001b[0;34m,\u001b[0m\u001b[0;34m\u001b[0m\u001b[0;34m\u001b[0m\u001b[0m\n",
            "\u001b[0;32m/usr/local/lib/python3.9/dist-packages/pandas_gbq/gbq.py\u001b[0m in \u001b[0;36m_download_results\u001b[0;34m(self, rows_iter, max_results, progress_bar_type, user_dtypes)\u001b[0m\n\u001b[1;32m    560\u001b[0m             \u001b[0mconversion_dtypes\u001b[0m \u001b[0;34m=\u001b[0m \u001b[0m_bqschema_to_nullsafe_dtypes\u001b[0m\u001b[0;34m(\u001b[0m\u001b[0mschema_fields\u001b[0m\u001b[0;34m)\u001b[0m\u001b[0;34m\u001b[0m\u001b[0;34m\u001b[0m\u001b[0m\n\u001b[1;32m    561\u001b[0m             \u001b[0mconversion_dtypes\u001b[0m\u001b[0;34m.\u001b[0m\u001b[0mupdate\u001b[0m\u001b[0;34m(\u001b[0m\u001b[0muser_dtypes\u001b[0m\u001b[0;34m)\u001b[0m\u001b[0;34m\u001b[0m\u001b[0;34m\u001b[0m\u001b[0m\n\u001b[0;32m--> 562\u001b[0;31m             df = rows_iter.to_dataframe(\n\u001b[0m\u001b[1;32m    563\u001b[0m                 \u001b[0mdtypes\u001b[0m\u001b[0;34m=\u001b[0m\u001b[0mconversion_dtypes\u001b[0m\u001b[0;34m,\u001b[0m\u001b[0;34m\u001b[0m\u001b[0;34m\u001b[0m\u001b[0m\n\u001b[1;32m    564\u001b[0m                 \u001b[0mprogress_bar_type\u001b[0m\u001b[0;34m=\u001b[0m\u001b[0mprogress_bar_type\u001b[0m\u001b[0;34m,\u001b[0m\u001b[0;34m\u001b[0m\u001b[0;34m\u001b[0m\u001b[0m\n",
            "\u001b[0;32m/usr/local/lib/python3.9/dist-packages/google/cloud/bigquery/table.py\u001b[0m in \u001b[0;36mto_dataframe\u001b[0;34m(self, bqstorage_client, dtypes, progress_bar_type, create_bqstorage_client, geography_as_object)\u001b[0m\n\u001b[1;32m   2032\u001b[0m \u001b[0;34m\u001b[0m\u001b[0m\n\u001b[1;32m   2033\u001b[0m         \u001b[0;32mif\u001b[0m \u001b[0mlen\u001b[0m\u001b[0;34m(\u001b[0m\u001b[0mrecord_batch\u001b[0m\u001b[0;34m)\u001b[0m \u001b[0;34m>\u001b[0m \u001b[0;36m0\u001b[0m\u001b[0;34m:\u001b[0m\u001b[0;34m\u001b[0m\u001b[0;34m\u001b[0m\u001b[0m\n\u001b[0;32m-> 2034\u001b[0;31m             df = record_batch.to_pandas(\n\u001b[0m\u001b[1;32m   2035\u001b[0m                 \u001b[0mdate_as_object\u001b[0m\u001b[0;34m=\u001b[0m\u001b[0mdate_as_object\u001b[0m\u001b[0;34m,\u001b[0m\u001b[0;34m\u001b[0m\u001b[0;34m\u001b[0m\u001b[0m\n\u001b[1;32m   2036\u001b[0m                 \u001b[0mtimestamp_as_object\u001b[0m\u001b[0;34m=\u001b[0m\u001b[0mtimestamp_as_object\u001b[0m\u001b[0;34m,\u001b[0m\u001b[0;34m\u001b[0m\u001b[0;34m\u001b[0m\u001b[0m\n",
            "\u001b[0;32m/usr/local/lib/python3.9/dist-packages/pyarrow/array.pxi\u001b[0m in \u001b[0;36mpyarrow.lib._PandasConvertible.to_pandas\u001b[0;34m()\u001b[0m\n",
            "\u001b[0;32m/usr/local/lib/python3.9/dist-packages/pyarrow/table.pxi\u001b[0m in \u001b[0;36mpyarrow.lib.Table._to_pandas\u001b[0;34m()\u001b[0m\n",
            "\u001b[0;32m/usr/local/lib/python3.9/dist-packages/pyarrow/pandas_compat.py\u001b[0m in \u001b[0;36mtable_to_blockmanager\u001b[0;34m(options, table, categories, ignore_metadata, types_mapper)\u001b[0m\n\u001b[1;32m    816\u001b[0m     \u001b[0m_check_data_column_metadata_consistency\u001b[0m\u001b[0;34m(\u001b[0m\u001b[0mall_columns\u001b[0m\u001b[0;34m)\u001b[0m\u001b[0;34m\u001b[0m\u001b[0;34m\u001b[0m\u001b[0m\n\u001b[1;32m    817\u001b[0m     \u001b[0mcolumns\u001b[0m \u001b[0;34m=\u001b[0m \u001b[0m_deserialize_column_index\u001b[0m\u001b[0;34m(\u001b[0m\u001b[0mtable\u001b[0m\u001b[0;34m,\u001b[0m \u001b[0mall_columns\u001b[0m\u001b[0;34m,\u001b[0m \u001b[0mcolumn_indexes\u001b[0m\u001b[0;34m)\u001b[0m\u001b[0;34m\u001b[0m\u001b[0;34m\u001b[0m\u001b[0m\n\u001b[0;32m--> 818\u001b[0;31m     \u001b[0mblocks\u001b[0m \u001b[0;34m=\u001b[0m \u001b[0m_table_to_blocks\u001b[0m\u001b[0;34m(\u001b[0m\u001b[0moptions\u001b[0m\u001b[0;34m,\u001b[0m \u001b[0mtable\u001b[0m\u001b[0;34m,\u001b[0m \u001b[0mcategories\u001b[0m\u001b[0;34m,\u001b[0m \u001b[0mext_columns_dtypes\u001b[0m\u001b[0;34m)\u001b[0m\u001b[0;34m\u001b[0m\u001b[0;34m\u001b[0m\u001b[0m\n\u001b[0m\u001b[1;32m    819\u001b[0m \u001b[0;34m\u001b[0m\u001b[0m\n\u001b[1;32m    820\u001b[0m     \u001b[0maxes\u001b[0m \u001b[0;34m=\u001b[0m \u001b[0;34m[\u001b[0m\u001b[0mcolumns\u001b[0m\u001b[0;34m,\u001b[0m \u001b[0mindex\u001b[0m\u001b[0;34m]\u001b[0m\u001b[0;34m\u001b[0m\u001b[0;34m\u001b[0m\u001b[0m\n",
            "\u001b[0;32m/usr/local/lib/python3.9/dist-packages/pyarrow/pandas_compat.py\u001b[0m in \u001b[0;36m_table_to_blocks\u001b[0;34m(options, block_table, categories, extension_columns)\u001b[0m\n\u001b[1;32m   1166\u001b[0m     \u001b[0;31m# Convert an arrow table to Block from the internal pandas API\u001b[0m\u001b[0;34m\u001b[0m\u001b[0;34m\u001b[0m\u001b[0m\n\u001b[1;32m   1167\u001b[0m     \u001b[0mcolumns\u001b[0m \u001b[0;34m=\u001b[0m \u001b[0mblock_table\u001b[0m\u001b[0;34m.\u001b[0m\u001b[0mcolumn_names\u001b[0m\u001b[0;34m\u001b[0m\u001b[0;34m\u001b[0m\u001b[0m\n\u001b[0;32m-> 1168\u001b[0;31m     result = pa.lib.table_to_blocks(options, block_table, categories,\n\u001b[0m\u001b[1;32m   1169\u001b[0m                                     list(extension_columns.keys()))\n\u001b[1;32m   1170\u001b[0m     return [_reconstruct_block(item, columns, extension_columns)\n",
            "\u001b[0;31mKeyboardInterrupt\u001b[0m: "
          ]
        }
      ],
      "source": [
        "query = f\"\"\"SELECT * FROM `gestion-bases-datos.{BQ_TABLE_NAME}`\"\"\"\n",
        "pd.read_gbq(query, credentials=credentials)"
      ]
    },
    {
      "cell_type": "code",
      "source": [
        "query = f\"\"\"SELECT * FROM `gestion-bases-datos.{BQ_TABLE_NAME_A}`\"\"\"\n",
        "pd.read_gbq(query, credentials=credentials)"
      ],
      "metadata": {
        "colab": {
          "base_uri": "https://localhost:8080/",
          "height": 423
        },
        "id": "nYCTVkD3kTD1",
        "outputId": "1679f92a-28c9-41ce-9676-a10e3ea6f2ef"
      },
      "id": "nYCTVkD3kTD1",
      "execution_count": null,
      "outputs": [
        {
          "output_type": "execute_result",
          "data": {
            "text/plain": [
              "         Unnamed: 0  followers  popularity main_genre\n",
              "0              <NA>    53636.0          53        pop\n",
              "1              <NA>    72684.0          51        pop\n",
              "2              <NA>   248568.0          52       folk\n",
              "3              <NA>     5644.0          52    unknown\n",
              "4              <NA>      786.0          56      other\n",
              "...             ...        ...         ...        ...\n",
              "1162090        <NA>        1.0          35    unknown\n",
              "1162091        <NA>        1.0          35    unknown\n",
              "1162092        <NA>        1.0          35      other\n",
              "1162093        <NA>        1.0          35    unknown\n",
              "1162094        <NA>        1.0          35    unknown\n",
              "\n",
              "[1162095 rows x 4 columns]"
            ],
            "text/html": [
              "\n",
              "  <div id=\"df-01dd9128-394a-4cd7-b615-258c24ddf845\">\n",
              "    <div class=\"colab-df-container\">\n",
              "      <div>\n",
              "<style scoped>\n",
              "    .dataframe tbody tr th:only-of-type {\n",
              "        vertical-align: middle;\n",
              "    }\n",
              "\n",
              "    .dataframe tbody tr th {\n",
              "        vertical-align: top;\n",
              "    }\n",
              "\n",
              "    .dataframe thead th {\n",
              "        text-align: right;\n",
              "    }\n",
              "</style>\n",
              "<table border=\"1\" class=\"dataframe\">\n",
              "  <thead>\n",
              "    <tr style=\"text-align: right;\">\n",
              "      <th></th>\n",
              "      <th>Unnamed: 0</th>\n",
              "      <th>followers</th>\n",
              "      <th>popularity</th>\n",
              "      <th>main_genre</th>\n",
              "    </tr>\n",
              "  </thead>\n",
              "  <tbody>\n",
              "    <tr>\n",
              "      <th>0</th>\n",
              "      <td>&lt;NA&gt;</td>\n",
              "      <td>53636.0</td>\n",
              "      <td>53</td>\n",
              "      <td>pop</td>\n",
              "    </tr>\n",
              "    <tr>\n",
              "      <th>1</th>\n",
              "      <td>&lt;NA&gt;</td>\n",
              "      <td>72684.0</td>\n",
              "      <td>51</td>\n",
              "      <td>pop</td>\n",
              "    </tr>\n",
              "    <tr>\n",
              "      <th>2</th>\n",
              "      <td>&lt;NA&gt;</td>\n",
              "      <td>248568.0</td>\n",
              "      <td>52</td>\n",
              "      <td>folk</td>\n",
              "    </tr>\n",
              "    <tr>\n",
              "      <th>3</th>\n",
              "      <td>&lt;NA&gt;</td>\n",
              "      <td>5644.0</td>\n",
              "      <td>52</td>\n",
              "      <td>unknown</td>\n",
              "    </tr>\n",
              "    <tr>\n",
              "      <th>4</th>\n",
              "      <td>&lt;NA&gt;</td>\n",
              "      <td>786.0</td>\n",
              "      <td>56</td>\n",
              "      <td>other</td>\n",
              "    </tr>\n",
              "    <tr>\n",
              "      <th>...</th>\n",
              "      <td>...</td>\n",
              "      <td>...</td>\n",
              "      <td>...</td>\n",
              "      <td>...</td>\n",
              "    </tr>\n",
              "    <tr>\n",
              "      <th>1162090</th>\n",
              "      <td>&lt;NA&gt;</td>\n",
              "      <td>1.0</td>\n",
              "      <td>35</td>\n",
              "      <td>unknown</td>\n",
              "    </tr>\n",
              "    <tr>\n",
              "      <th>1162091</th>\n",
              "      <td>&lt;NA&gt;</td>\n",
              "      <td>1.0</td>\n",
              "      <td>35</td>\n",
              "      <td>unknown</td>\n",
              "    </tr>\n",
              "    <tr>\n",
              "      <th>1162092</th>\n",
              "      <td>&lt;NA&gt;</td>\n",
              "      <td>1.0</td>\n",
              "      <td>35</td>\n",
              "      <td>other</td>\n",
              "    </tr>\n",
              "    <tr>\n",
              "      <th>1162093</th>\n",
              "      <td>&lt;NA&gt;</td>\n",
              "      <td>1.0</td>\n",
              "      <td>35</td>\n",
              "      <td>unknown</td>\n",
              "    </tr>\n",
              "    <tr>\n",
              "      <th>1162094</th>\n",
              "      <td>&lt;NA&gt;</td>\n",
              "      <td>1.0</td>\n",
              "      <td>35</td>\n",
              "      <td>unknown</td>\n",
              "    </tr>\n",
              "  </tbody>\n",
              "</table>\n",
              "<p>1162095 rows × 4 columns</p>\n",
              "</div>\n",
              "      <button class=\"colab-df-convert\" onclick=\"convertToInteractive('df-01dd9128-394a-4cd7-b615-258c24ddf845')\"\n",
              "              title=\"Convert this dataframe to an interactive table.\"\n",
              "              style=\"display:none;\">\n",
              "        \n",
              "  <svg xmlns=\"http://www.w3.org/2000/svg\" height=\"24px\"viewBox=\"0 0 24 24\"\n",
              "       width=\"24px\">\n",
              "    <path d=\"M0 0h24v24H0V0z\" fill=\"none\"/>\n",
              "    <path d=\"M18.56 5.44l.94 2.06.94-2.06 2.06-.94-2.06-.94-.94-2.06-.94 2.06-2.06.94zm-11 1L8.5 8.5l.94-2.06 2.06-.94-2.06-.94L8.5 2.5l-.94 2.06-2.06.94zm10 10l.94 2.06.94-2.06 2.06-.94-2.06-.94-.94-2.06-.94 2.06-2.06.94z\"/><path d=\"M17.41 7.96l-1.37-1.37c-.4-.4-.92-.59-1.43-.59-.52 0-1.04.2-1.43.59L10.3 9.45l-7.72 7.72c-.78.78-.78 2.05 0 2.83L4 21.41c.39.39.9.59 1.41.59.51 0 1.02-.2 1.41-.59l7.78-7.78 2.81-2.81c.8-.78.8-2.07 0-2.86zM5.41 20L4 18.59l7.72-7.72 1.47 1.35L5.41 20z\"/>\n",
              "  </svg>\n",
              "      </button>\n",
              "      \n",
              "  <style>\n",
              "    .colab-df-container {\n",
              "      display:flex;\n",
              "      flex-wrap:wrap;\n",
              "      gap: 12px;\n",
              "    }\n",
              "\n",
              "    .colab-df-convert {\n",
              "      background-color: #E8F0FE;\n",
              "      border: none;\n",
              "      border-radius: 50%;\n",
              "      cursor: pointer;\n",
              "      display: none;\n",
              "      fill: #1967D2;\n",
              "      height: 32px;\n",
              "      padding: 0 0 0 0;\n",
              "      width: 32px;\n",
              "    }\n",
              "\n",
              "    .colab-df-convert:hover {\n",
              "      background-color: #E2EBFA;\n",
              "      box-shadow: 0px 1px 2px rgba(60, 64, 67, 0.3), 0px 1px 3px 1px rgba(60, 64, 67, 0.15);\n",
              "      fill: #174EA6;\n",
              "    }\n",
              "\n",
              "    [theme=dark] .colab-df-convert {\n",
              "      background-color: #3B4455;\n",
              "      fill: #D2E3FC;\n",
              "    }\n",
              "\n",
              "    [theme=dark] .colab-df-convert:hover {\n",
              "      background-color: #434B5C;\n",
              "      box-shadow: 0px 1px 3px 1px rgba(0, 0, 0, 0.15);\n",
              "      filter: drop-shadow(0px 1px 2px rgba(0, 0, 0, 0.3));\n",
              "      fill: #FFFFFF;\n",
              "    }\n",
              "  </style>\n",
              "\n",
              "      <script>\n",
              "        const buttonEl =\n",
              "          document.querySelector('#df-01dd9128-394a-4cd7-b615-258c24ddf845 button.colab-df-convert');\n",
              "        buttonEl.style.display =\n",
              "          google.colab.kernel.accessAllowed ? 'block' : 'none';\n",
              "\n",
              "        async function convertToInteractive(key) {\n",
              "          const element = document.querySelector('#df-01dd9128-394a-4cd7-b615-258c24ddf845');\n",
              "          const dataTable =\n",
              "            await google.colab.kernel.invokeFunction('convertToInteractive',\n",
              "                                                     [key], {});\n",
              "          if (!dataTable) return;\n",
              "\n",
              "          const docLinkHtml = 'Like what you see? Visit the ' +\n",
              "            '<a target=\"_blank\" href=https://colab.research.google.com/notebooks/data_table.ipynb>data table notebook</a>'\n",
              "            + ' to learn more about interactive tables.';\n",
              "          element.innerHTML = '';\n",
              "          dataTable['output_type'] = 'display_data';\n",
              "          await google.colab.output.renderOutput(dataTable, element);\n",
              "          const docLink = document.createElement('div');\n",
              "          docLink.innerHTML = docLinkHtml;\n",
              "          element.appendChild(docLink);\n",
              "        }\n",
              "      </script>\n",
              "    </div>\n",
              "  </div>\n",
              "  "
            ]
          },
          "metadata": {},
          "execution_count": 19
        }
      ]
    }
  ],
  "metadata": {
    "kernelspec": {
      "display_name": "Python 3 (ipykernel)",
      "language": "python",
      "name": "python3"
    },
    "language_info": {
      "codemirror_mode": {
        "name": "ipython",
        "version": 3
      },
      "file_extension": ".py",
      "mimetype": "text/x-python",
      "name": "python",
      "nbconvert_exporter": "python",
      "pygments_lexer": "ipython3",
      "version": "3.9.12"
    },
    "colab": {
      "provenance": []
    }
  },
  "nbformat": 4,
  "nbformat_minor": 5
}