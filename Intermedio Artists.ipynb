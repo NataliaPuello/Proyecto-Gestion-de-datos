{
  "nbformat": 4,
  "nbformat_minor": 0,
  "metadata": {
    "colab": {
      "provenance": [],
      "toc_visible": true
    },
    "kernelspec": {
      "name": "python3",
      "display_name": "Python 3"
    },
    "language_info": {
      "name": "python"
    }
  },
  "cells": [
    {
      "cell_type": "code",
      "execution_count": null,
      "metadata": {
        "id": "kzGH14psfL75"
      },
      "outputs": [],
      "source": [
        "import pandas as pd"
      ]
    },
    {
      "cell_type": "code",
      "source": [
        "b1_df = pd.read_csv(\"/content/lastbase.csv\")\n",
        "b2_df = pd.read_csv(\"/content/remaster.csv\")\n",
        "art = pd.read_csv(\"/content/artists_mod.csv\")"
      ],
      "metadata": {
        "id": "RPhegfTugATV"
      },
      "execution_count": null,
      "outputs": []
    },
    {
      "cell_type": "code",
      "source": [
        "len(b1_df)"
      ],
      "metadata": {
        "colab": {
          "base_uri": "https://localhost:8080/"
        },
        "id": "OPTUaHbQhG5A",
        "outputId": "6a0d273c-c02a-487c-a0f4-65d5b891ea8c"
      },
      "execution_count": null,
      "outputs": [
        {
          "output_type": "execute_result",
          "data": {
            "text/plain": [
              "1162095"
            ]
          },
          "metadata": {},
          "execution_count": 3
        }
      ]
    },
    {
      "cell_type": "code",
      "source": [
        "b1_df.columns = [\"Indice\",\"Followes\",\"Popularity\",\"Main_genre\"]\n",
        "print(b1_df)"
      ],
      "metadata": {
        "colab": {
          "base_uri": "https://localhost:8080/"
        },
        "id": "qxTrCblphrh-",
        "outputId": "15391c6e-4e0e-4b70-8a37-99485d2d21ee"
      },
      "execution_count": null,
      "outputs": [
        {
          "output_type": "stream",
          "name": "stdout",
          "text": [
            "          Indice  Followes  Popularity Main_genre\n",
            "0              0       0.0           0    unknown\n",
            "1              1       5.0           0    unknown\n",
            "2              2       0.0           0    unknown\n",
            "3              3       0.0           0    unknown\n",
            "4              4       2.0           0    unknown\n",
            "...          ...       ...         ...        ...\n",
            "1162090  1162090    4831.0          34      other\n",
            "1162091  1162091      46.0           2    unknown\n",
            "1162092  1162092     257.0          10    unknown\n",
            "1162093  1162093    2357.0          15      other\n",
            "1162094  1162094      40.0           8      other\n",
            "\n",
            "[1162095 rows x 4 columns]\n"
          ]
        }
      ]
    },
    {
      "cell_type": "code",
      "source": [
        "b2_df.columns = [\"Indice\",\"Id\",\"Followes\",\"Genre\",\"Name\",\"Popularity\"]\n",
        "print(b2_df)"
      ],
      "metadata": {
        "colab": {
          "base_uri": "https://localhost:8080/"
        },
        "id": "9Dnfw0eviiHy",
        "outputId": "e7708ea0-0efa-4f3f-d8ec-eb4d160e6cd5"
      },
      "execution_count": null,
      "outputs": [
        {
          "output_type": "stream",
          "name": "stdout",
          "text": [
            "          Indice                      Id  Followes    Genre  \\\n",
            "0              0  0DheY5irMjBUeLybbCUEZ2       0.0  unknown   \n",
            "1              1  0DlhY15l3wsrnlfGio2bjU       5.0  unknown   \n",
            "2              2  0DmRESX2JknGPQyO15yxg7       0.0  unknown   \n",
            "3              3  0DmhnbHjm1qw6NCYPeZNgJ       0.0  unknown   \n",
            "4              4  0Dn11fWM7vHQ3rinvWEl4E       2.0  unknown   \n",
            "...          ...                     ...       ...      ...   \n",
            "1162090  1162090  3cOzi726Iav1toV2LRVEjp    4831.0    other   \n",
            "1162091  1162091  6LogY6VMM3jgAE6fPzXeMl      46.0  unknown   \n",
            "1162092  1162092  19boQkDEIay9GaVAWkUhTa     257.0  unknown   \n",
            "1162093  1162093  5nvjpU3Y7L6Hpe54QuvDjy    2357.0    other   \n",
            "1162094  1162094  2bP2cNhNBdKXHC6AnqgyVp      40.0    other   \n",
            "\n",
            "                                                   Name  Popularity  \n",
            "0        Armid & Amir Zare Pashai feat. Sara Rouzbehani           0  \n",
            "1                                           ปูนา ภาวิณี           0  \n",
            "2                                                 Sadaa           0  \n",
            "3                                             Tra'gruda           0  \n",
            "4                                Ioannis Panoutsopoulos           0  \n",
            "...                                                 ...         ...  \n",
            "1162090                                      Ali Siddiq          34  \n",
            "1162091                                    Rodney Laney           2  \n",
            "1162092                                    Blake Wexler          10  \n",
            "1162093                                Donnell Rawlings          15  \n",
            "1162094                                        Gabe Kea           8  \n",
            "\n",
            "[1162095 rows x 6 columns]\n"
          ]
        }
      ]
    },
    {
      "cell_type": "code",
      "source": [
        "len(b2_df)"
      ],
      "metadata": {
        "colab": {
          "base_uri": "https://localhost:8080/"
        },
        "id": "Pj66ZbXWhJYm",
        "outputId": "2cdfaed7-342c-45e6-f28c-9f79f12e1182"
      },
      "execution_count": null,
      "outputs": [
        {
          "output_type": "execute_result",
          "data": {
            "text/plain": [
              "1162095"
            ]
          },
          "metadata": {},
          "execution_count": 13
        }
      ]
    },
    {
      "cell_type": "code",
      "source": [
        "df_inner = pd.merge(b1_df, b2_df, on='Indice', how='inner')"
      ],
      "metadata": {
        "id": "7WeYrTlOgzmU"
      },
      "execution_count": null,
      "outputs": []
    },
    {
      "cell_type": "code",
      "source": [
        "df_inner = df_inner.drop([\"Followes_x\",\"Popularity_x\",\"Genre\", \"Indice\"],axis=1)\n",
        "print(df_inner)"
      ],
      "metadata": {
        "colab": {
          "base_uri": "https://localhost:8080/"
        },
        "id": "kAazq2UZjrKh",
        "outputId": "9c5361c1-9d87-4c82-b683-9f3efe85af2c"
      },
      "execution_count": null,
      "outputs": [
        {
          "output_type": "stream",
          "name": "stdout",
          "text": [
            "        Main_genre                      Id  Followes_y  \\\n",
            "0          unknown  0DheY5irMjBUeLybbCUEZ2         0.0   \n",
            "1          unknown  0DlhY15l3wsrnlfGio2bjU         5.0   \n",
            "2          unknown  0DmRESX2JknGPQyO15yxg7         0.0   \n",
            "3          unknown  0DmhnbHjm1qw6NCYPeZNgJ         0.0   \n",
            "4          unknown  0Dn11fWM7vHQ3rinvWEl4E         2.0   \n",
            "...            ...                     ...         ...   \n",
            "1162090      other  3cOzi726Iav1toV2LRVEjp      4831.0   \n",
            "1162091    unknown  6LogY6VMM3jgAE6fPzXeMl        46.0   \n",
            "1162092    unknown  19boQkDEIay9GaVAWkUhTa       257.0   \n",
            "1162093      other  5nvjpU3Y7L6Hpe54QuvDjy      2357.0   \n",
            "1162094      other  2bP2cNhNBdKXHC6AnqgyVp        40.0   \n",
            "\n",
            "                                                   Name  Popularity_y  \n",
            "0        Armid & Amir Zare Pashai feat. Sara Rouzbehani             0  \n",
            "1                                           ปูนา ภาวิณี             0  \n",
            "2                                                 Sadaa             0  \n",
            "3                                             Tra'gruda             0  \n",
            "4                                Ioannis Panoutsopoulos             0  \n",
            "...                                                 ...           ...  \n",
            "1162090                                      Ali Siddiq            34  \n",
            "1162091                                    Rodney Laney             2  \n",
            "1162092                                    Blake Wexler            10  \n",
            "1162093                                Donnell Rawlings            15  \n",
            "1162094                                        Gabe Kea             8  \n",
            "\n",
            "[1162095 rows x 5 columns]\n"
          ]
        }
      ]
    },
    {
      "cell_type": "code",
      "source": [
        "df_inner = df_inner.reindex(columns=['Id', 'Followes_y',\"Main_genre\",\"Name\",\"Popularity_y\"])\n",
        "df_inner.columns = ['Id', 'Followers',\"Main_genre\",\"Name\",\"Popularity\"]\n",
        "print(df_inner)"
      ],
      "metadata": {
        "colab": {
          "base_uri": "https://localhost:8080/"
        },
        "id": "WwwX16HTkmn_",
        "outputId": "e213683e-2721-4985-a499-aa4e97d6362b"
      },
      "execution_count": null,
      "outputs": [
        {
          "output_type": "stream",
          "name": "stdout",
          "text": [
            "                             Id  Followers Main_genre  \\\n",
            "0        0DheY5irMjBUeLybbCUEZ2        0.0    unknown   \n",
            "1        0DlhY15l3wsrnlfGio2bjU        5.0    unknown   \n",
            "2        0DmRESX2JknGPQyO15yxg7        0.0    unknown   \n",
            "3        0DmhnbHjm1qw6NCYPeZNgJ        0.0    unknown   \n",
            "4        0Dn11fWM7vHQ3rinvWEl4E        2.0    unknown   \n",
            "...                         ...        ...        ...   \n",
            "1162090  3cOzi726Iav1toV2LRVEjp     4831.0      other   \n",
            "1162091  6LogY6VMM3jgAE6fPzXeMl       46.0    unknown   \n",
            "1162092  19boQkDEIay9GaVAWkUhTa      257.0    unknown   \n",
            "1162093  5nvjpU3Y7L6Hpe54QuvDjy     2357.0      other   \n",
            "1162094  2bP2cNhNBdKXHC6AnqgyVp       40.0      other   \n",
            "\n",
            "                                                   Name  Popularity  \n",
            "0        Armid & Amir Zare Pashai feat. Sara Rouzbehani           0  \n",
            "1                                           ปูนา ภาวิณี           0  \n",
            "2                                                 Sadaa           0  \n",
            "3                                             Tra'gruda           0  \n",
            "4                                Ioannis Panoutsopoulos           0  \n",
            "...                                                 ...         ...  \n",
            "1162090                                      Ali Siddiq          34  \n",
            "1162091                                    Rodney Laney           2  \n",
            "1162092                                    Blake Wexler          10  \n",
            "1162093                                Donnell Rawlings          15  \n",
            "1162094                                        Gabe Kea           8  \n",
            "\n",
            "[1162095 rows x 5 columns]\n"
          ]
        }
      ]
    },
    {
      "cell_type": "code",
      "source": [
        "#Exportar dataset \n",
        "df_inner.to_csv('artists_new.csv', index=False)"
      ],
      "metadata": {
        "id": "okT9R9qjlw2R"
      },
      "execution_count": null,
      "outputs": []
    },
    {
      "cell_type": "code",
      "source": [
        "len(art)"
      ],
      "metadata": {
        "colab": {
          "base_uri": "https://localhost:8080/"
        },
        "id": "h_Ngxqy5nv-n",
        "outputId": "1a2ccd78-203f-4ff8-e911-63fc6ce6f8b6"
      },
      "execution_count": null,
      "outputs": [
        {
          "output_type": "execute_result",
          "data": {
            "text/plain": [
              "1162095"
            ]
          },
          "metadata": {},
          "execution_count": 37
        }
      ]
    }
  ]
}