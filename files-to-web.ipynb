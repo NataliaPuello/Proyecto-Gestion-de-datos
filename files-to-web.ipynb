{
 "cells": [
  {
   "cell_type": "code",
   "execution_count": 1,
   "id": "083f0421",
   "metadata": {},
   "outputs": [],
   "source": [
    "# abr 2 2022 PUJ - gestión de datos, NP, IT, ER"
   ]
  },
  {
   "cell_type": "code",
   "execution_count": 2,
   "id": "c9ca8f67",
   "metadata": {},
   "outputs": [
    {
     "name": "stdout",
     "output_type": "stream",
     "text": [
      "mkdir: cannot create directory ‘app’: File exists\n",
      "mkdir: cannot create directory ‘app/templates’: File exists\n"
     ]
    }
   ],
   "source": [
    "!mkdir app\n",
    "!mkdir app/templates"
   ]
  },
  {
   "cell_type": "code",
   "execution_count": 3,
   "id": "4019b82f",
   "metadata": {},
   "outputs": [
    {
     "name": "stdout",
     "output_type": "stream",
     "text": [
      "Overwriting Vagrantfile\n"
     ]
    }
   ],
   "source": [
    "%%writefile Vagrantfile\n",
    "\n",
    "Vagrant.configure(\"2\") do |config|\n",
    "\n",
    "    config.vm.box = \"ubuntu/bionic64\"\n",
    "\n",
    "    config.vm.provision \"shell\", inline: <<-SHELL\n",
    "      sudo apt-get update\n",
    "      sudo apt-get install -yq \\\n",
    "        build-essential \\\n",
    "        tree \\\n",
    "        python-dev \\\n",
    "        python3-minimal \\\n",
    "        python3-pip \\\n",
    "        python3-dev \\\n",
    "        python3-venv\n",
    "      sudo apt-get update\n",
    "      pip3 install --upgrade pip\n",
    "      pip install pandas matplotlib scikit-learn flask pickle5 annoy\n",
    "    SHELL\n",
    "\n",
    "    config.vm.network :forwarded_port, guest: 5000, host: 1234, host_ip: \"127.0.0.1\"\n",
    "\n",
    "end"
   ]
  },
  {
   "cell_type": "code",
   "execution_count": 4,
   "id": "bc8b110c",
   "metadata": {},
   "outputs": [
    {
     "name": "stdout",
     "output_type": "stream",
     "text": [
      "Overwriting app/training.py\n"
     ]
    }
   ],
   "source": [
    "%%writefile app/training.py\n",
    "import pandas as pd\n",
    "from annoy import AnnoyIndex\n",
    "data = pd.read_csv(\"tracks_mod.csv\")\n",
    "data=data[-data.duplicated(subset=['name'])]\n",
    "data.reset_index(inplace=True, drop=True)\n",
    "data['artists'].replace(\"\\[\", \"\", regex=True, inplace=True)\n",
    "data['artists'].replace(\"\\]\", \"\", regex=True, inplace=True)\n",
    "features =  ['popularity','danceability', 'energy','loudness',  'speechiness', 'acousticness', 'instrumentalness',\n",
    "       'liveness', 'valence', 'tempo', 'time_signature']\n",
    "data = data[['name','artists'] + features]\n",
    "len_features = len(features)\n",
    "annoy = AnnoyIndex(len_features, \"euclidean\")\n",
    "for i in data.index:\n",
    "    v = data.loc[i][features].values\n",
    "    annoy.add_item(i, v)\n",
    "annoy.build(10, n_jobs=-1)\n",
    "annoy.save(\"spotify.ann\")\n",
    "data.to_csv(\"data_to_load.csv\")"
   ]
  },
  {
   "cell_type": "code",
   "execution_count": 5,
   "id": "b84428e1",
   "metadata": {},
   "outputs": [
    {
     "name": "stdout",
     "output_type": "stream",
     "text": [
      "Overwriting app/app.py\n"
     ]
    }
   ],
   "source": [
    "%%writefile app/app.py\n",
    "import pickle5 as pickle\n",
    "from annoy import AnnoyIndex\n",
    "import pandas as pd\n",
    "from flask import Flask, flash, render_template, request\n",
    "\n",
    "def get_index_filter(df, condition, condition_value):\n",
    "    df_ = df.copy()\n",
    "    genre = df_.loc[df_[condition].str.contains(condition_value)]\n",
    "    return genre.index[0]\n",
    "\n",
    "\n",
    "def get_name(index, df, var_name):\n",
    "    names = [df.loc[indice, var_name] for indice in index]\n",
    "    return names\n",
    "\n",
    "def table(features, df):\n",
    "    headings = []\n",
    "    songs = []\n",
    "    for feature in features:\n",
    "        headings.append(feature)\n",
    "        songs.append(get_name(df[feature].sort_values(ascending=False)[0:3].index , df, 'name'))\n",
    "    return headings, songs\n",
    "\n",
    "\n",
    "\n",
    "app = Flask(__name__)\n",
    "\n",
    "data  = pd.read_csv(\"data_to_load.csv\")\n",
    "\n",
    "\n",
    "# We could add the genre\n",
    "database = {}\n",
    "for index in data.index:\n",
    "    database[data.loc[index,'name']] = [index , data.loc[index, 'artists']]\n",
    "    \n",
    "\n",
    "cats = ['popularity', 'energy', 'danceability']\n",
    "headings, titles = table(cats,data)\n",
    "\n",
    "len_features =11\n",
    "annoy_loaded = AnnoyIndex(len_features, \"euclidean\")\n",
    "annoy_loaded.load(\"spotify.ann\")\n",
    "# index to get, the number of neighbors\n",
    "\n",
    "app.config[\"SECRET_KEY\"] = \"nose\" \n",
    "# Nombres de las clases\n",
    "@app.route('/', methods=['GET', 'POST'])\n",
    "def songs():\n",
    "    selected_song = request.args.get('type')\n",
    "    \n",
    "    if selected_song==None:\n",
    "        result = 'Choose your song'\n",
    "    \n",
    "    # When you press click over URL you get a string\n",
    "    elif selected_song in database: \n",
    "        name_index = selected_song\n",
    "        indice = database[name_index][0]\n",
    "        neighbors = annoy_loaded.get_nns_by_item(indice, 3)\n",
    "        result = data.loc[neighbors][\"name\"].values\n",
    "        recomendations = []\n",
    "        for r in result:\n",
    "            recomendations.append(r + ' ' + database[r][1].upper())\n",
    "        result = recomendations\n",
    "        \n",
    "    else:\n",
    "        result = 'Try another song! this is very boring'\n",
    "\n",
    "    return render_template(\"index.html\", headings=headings, titles =titles, result = result)\n",
    "\n",
    "if __name__ == \"__main__\":\n",
    "    app.run(host=\"0.0.0.0\", debug=True)"
   ]
  },
  {
   "cell_type": "code",
   "execution_count": 6,
   "id": "b833d26b",
   "metadata": {},
   "outputs": [
    {
     "name": "stdout",
     "output_type": "stream",
     "text": [
      "Overwriting app/templates/index.html\n"
     ]
    }
   ],
   "source": [
    "%%writefile app/templates/index.html\n",
    "<!DOCTYPE html>\n",
    "<html lang=\"en\">\n",
    "    <head>\n",
    "        <meta charset=\"utf-8\">\n",
    "        <title>Recommender Songs</title>\n",
    "    </head>\n",
    "    <body>  \n",
    "<table>\n",
    "    <tr>\n",
    "        {% for header in headings %}\n",
    "        <th>{{ header }}</th>\n",
    "        {% endfor %}\n",
    "    </tr>\n",
    "    {% for row in titles %}\n",
    "    <tr>\n",
    "        {% for cell in row %}\n",
    "        <td><a href=\"{{ url_for('songs', type=cell) }}\">{{cell}}</a></td>      \n",
    "        {% endfor %}\n",
    "    </tr>\n",
    "    {% endfor %}\n",
    "</table>\n",
    "\n",
    "Our recommendations are:\n",
    "\n",
    "<table>\n",
    "    <tr>\n",
    "        {% for song in result %}\n",
    "        <th>{{ song }}</th>\n",
    "        {% endfor %}\n",
    "    </tr>\n",
    "</table>\n",
    "    \n",
    "    </body>\n",
    "</html>"
   ]
  }
 ],
 "metadata": {
  "kernelspec": {
   "display_name": "Python 3 (ipykernel)",
   "language": "python",
   "name": "python3"
  },
  "language_info": {
   "codemirror_mode": {
    "name": "ipython",
    "version": 3
   },
   "file_extension": ".py",
   "mimetype": "text/x-python",
   "name": "python",
   "nbconvert_exporter": "python",
   "pygments_lexer": "ipython3",
   "version": "3.10.6"
  }
 },
 "nbformat": 4,
 "nbformat_minor": 5
}
