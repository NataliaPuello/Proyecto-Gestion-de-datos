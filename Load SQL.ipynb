{
  "cells": [
    {
      "cell_type": "code",
      "execution_count": 2,
      "metadata": {},
      "outputs": [
        {
          "name": "stdout",
          "output_type": "stream",
          "text": [
            "Requirement already satisfied: pandas in c:\\users\\natal\\appdata\\local\\programs\\python\\python311\\lib\\site-packages (1.5.3)\n",
            "Requirement already satisfied: python-dateutil>=2.8.1 in c:\\users\\natal\\appdata\\roaming\\python\\python311\\site-packages (from pandas) (2.8.2)\n",
            "Requirement already satisfied: pytz>=2020.1 in c:\\users\\natal\\appdata\\local\\programs\\python\\python311\\lib\\site-packages (from pandas) (2022.7.1)\n",
            "Requirement already satisfied: numpy>=1.21.0 in c:\\users\\natal\\appdata\\local\\programs\\python\\python311\\lib\\site-packages (from pandas) (1.24.2)\n",
            "Requirement already satisfied: six>=1.5 in c:\\users\\natal\\appdata\\roaming\\python\\python311\\site-packages (from python-dateutil>=2.8.1->pandas) (1.16.0)\n",
            "Note: you may need to restart the kernel to use updated packages.\n"
          ]
        },
        {
          "name": "stderr",
          "output_type": "stream",
          "text": [
            "\n",
            "[notice] A new release of pip available: 22.3.1 -> 23.0.1\n",
            "[notice] To update, run: python.exe -m pip install --upgrade pip\n"
          ]
        }
      ],
      "source": [
        "pip install pandas"
      ]
    },
    {
      "cell_type": "code",
      "execution_count": 3,
      "metadata": {},
      "outputs": [
        {
          "name": "stdout",
          "output_type": "stream",
          "text": [
            "Requirement already satisfied: psycopg2 in c:\\users\\natal\\appdata\\local\\programs\\python\\python311\\lib\\site-packages (2.9.5)\n",
            "Note: you may need to restart the kernel to use updated packages.\n"
          ]
        },
        {
          "name": "stderr",
          "output_type": "stream",
          "text": [
            "\n",
            "[notice] A new release of pip available: 22.3.1 -> 23.0.1\n",
            "[notice] To update, run: python.exe -m pip install --upgrade pip\n"
          ]
        }
      ],
      "source": [
        "pip install psycopg2"
      ]
    },
    {
      "cell_type": "code",
      "execution_count": 4,
      "metadata": {
        "id": "yqlQBxc2oXYP"
      },
      "outputs": [],
      "source": [
        "import pandas as pd\n",
        "import psycopg2"
      ]
    },
    {
      "cell_type": "code",
      "execution_count": 343,
      "metadata": {},
      "outputs": [],
      "source": [
        "#Se hace la conexión con Postgres y el data base llamado \"Proyecto\"\n",
        "conn = psycopg2.connect(user='postgres',password='1234',host='127.0.0.1',port='5432',database='Proyecto')"
      ]
    },
    {
      "cell_type": "code",
      "execution_count": 344,
      "metadata": {},
      "outputs": [],
      "source": [
        "#utilizar cursor\n",
        "cursor = conn.cursor()"
      ]
    },
    {
      "cell_type": "code",
      "execution_count": 7,
      "metadata": {},
      "outputs": [],
      "source": [
        "#Se cargan los archivos\n",
        "artists_df = pd.read_csv('artists_new.csv')\n",
        "tracks_df = pd.read_csv(\"tracks_new.csv\")"
      ]
    },
    {
      "cell_type": "code",
      "execution_count": 38,
      "metadata": {},
      "outputs": [
        {
          "data": {
            "text/plain": [
              "<bound method Series.to_frame of 0             unknown\n",
              "45              other\n",
              "136         classical\n",
              "148               pop\n",
              "155              folk\n",
              "159        electronic\n",
              "167      instrumental\n",
              "175           hip hop\n",
              "181               rap\n",
              "189             indie\n",
              "280            gospel\n",
              "315             tango\n",
              "323              rock\n",
              "324             blues\n",
              "335             metal\n",
              "345           folclor\n",
              "351              punk\n",
              "365            cumbia\n",
              "391            reggae\n",
              "421              trap\n",
              "432          hardcore\n",
              "458            techno\n",
              "463              jazz\n",
              "467       alternative\n",
              "603             disco\n",
              "942           country\n",
              "972               ska\n",
              "1539           ballad\n",
              "1543         ranchera\n",
              "1566             soul\n",
              "1629            banda\n",
              "1782        orchestra\n",
              "1973          corrido\n",
              "2964          bachata\n",
              "2977             funk\n",
              "3605            opera\n",
              "3613           grunge\n",
              "3641            salsa\n",
              "3749        vallenato\n",
              "4212            samba\n",
              "4264            mambo\n",
              "4568        percusion\n",
              "4622       motivation\n",
              "7273         flamenco\n",
              "7729           bolero\n",
              "7750       son cubano\n",
              "11775        merengue\n",
              "12561            trio\n",
              "Name: Main_genre, dtype: object>"
            ]
          },
          "execution_count": 38,
          "metadata": {},
          "output_type": "execute_result"
        }
      ],
      "source": [
        "#Crear tabla de Genres\n",
        "genres_df = artists_df[\"Main_genre\"]\n",
        "genres_df = genres_df.drop_duplicates()\n",
        "genres_df.to_frame"
      ]
    },
    {
      "cell_type": "code",
      "execution_count": 42,
      "metadata": {},
      "outputs": [
        {
          "name": "stdout",
          "output_type": "stream",
          "text": [
            "    id\n",
            "0    1\n",
            "1    2\n",
            "2    3\n",
            "3    4\n",
            "4    5\n",
            "5    6\n",
            "6    7\n",
            "7    8\n",
            "8    9\n",
            "9   10\n",
            "10  11\n",
            "11  12\n",
            "12  13\n",
            "13  14\n",
            "14  15\n",
            "15  16\n",
            "16  17\n",
            "17  18\n",
            "18  19\n",
            "19  20\n",
            "20  21\n",
            "21  22\n",
            "22  23\n",
            "23  24\n",
            "24  25\n",
            "25  26\n",
            "26  27\n",
            "27  28\n",
            "28  29\n",
            "29  30\n",
            "30  31\n",
            "31  32\n",
            "32  33\n",
            "33  34\n",
            "34  35\n",
            "35  36\n",
            "36  37\n",
            "37  38\n",
            "38  39\n",
            "39  40\n",
            "40  41\n",
            "41  42\n",
            "42  43\n",
            "43  44\n",
            "44  45\n",
            "45  46\n",
            "46  47\n",
            "47  48\n"
          ]
        }
      ],
      "source": [
        "#Se crean los nuevos identificadores para genre que serán enumerar los géneros de 1 a 48\n",
        "df = pd.DataFrame({'id': range(1, 49)})\n",
        "print(df)"
      ]
    },
    {
      "cell_type": "code",
      "execution_count": 43,
      "metadata": {},
      "outputs": [],
      "source": [
        "genres_df = pd.concat([df, genres_df], axis=1)"
      ]
    },
    {
      "cell_type": "code",
      "execution_count": 62,
      "metadata": {},
      "outputs": [
        {
          "name": "stdout",
          "output_type": "stream",
          "text": [
            "    id    Main_genre\n",
            "0    1       unknown\n",
            "1    2         other\n",
            "2    3     classical\n",
            "3    4           pop\n",
            "4    5          folk\n",
            "5    6    electronic\n",
            "6    7  instrumental\n",
            "7    8       hip hop\n",
            "8    9           rap\n",
            "9   10         indie\n",
            "10  11        gospel\n",
            "11  12         tango\n",
            "12  13          rock\n",
            "13  14         blues\n",
            "14  15         metal\n",
            "15  16       folclor\n",
            "16  17          punk\n",
            "17  18        cumbia\n",
            "18  19        reggae\n",
            "19  20          trap\n",
            "20  21      hardcore\n",
            "21  22        techno\n",
            "22  23          jazz\n",
            "23  24   alternative\n",
            "24  25         disco\n",
            "25  26       country\n",
            "26  27           ska\n",
            "27  28        ballad\n",
            "28  29      ranchera\n",
            "29  30          soul\n",
            "30  31         banda\n",
            "31  32     orchestra\n",
            "32  33       corrido\n",
            "33  34       bachata\n",
            "34  35          funk\n",
            "35  36         opera\n",
            "36  37        grunge\n",
            "37  38         salsa\n",
            "38  39     vallenato\n",
            "39  40         samba\n",
            "40  41         mambo\n",
            "41  42     percusion\n",
            "42  43    motivation\n",
            "43  44      flamenco\n",
            "44  45        bolero\n",
            "45  46    son cubano\n",
            "46  47      merengue\n",
            "47  48          trio\n"
          ]
        }
      ],
      "source": [
        "print(genres_df)"
      ]
    },
    {
      "cell_type": "code",
      "execution_count": 63,
      "metadata": {},
      "outputs": [],
      "source": [
        "genres_df.to_csv('genres.csv', index=False)"
      ]
    },
    {
      "cell_type": "code",
      "execution_count": 8,
      "metadata": {},
      "outputs": [],
      "source": [
        "genres_df = pd.read_csv('genres.csv')"
      ]
    },
    {
      "cell_type": "code",
      "execution_count": 77,
      "metadata": {},
      "outputs": [],
      "source": [
        "#reemplazar la columana \"main_genre\" en el df artists por el id del genre\n",
        "artists_df = artists_df.merge(genres_df[['id', 'Main_genre']], on='Main_genre', how='left')\n",
        "artists_df = artists_df.drop('Main_genre', axis=1)\n",
        "artists_df = artists_df.rename(columns={'id': 'Main_genre'})\n",
        "artists_df = artists_df.rename(columns={'id_x': 'id_genre'})\n",
        "artists_df = artists_df.drop('id_y', axis=1)"
      ]
    },
    {
      "cell_type": "code",
      "execution_count": 78,
      "metadata": {},
      "outputs": [
        {
          "name": "stdout",
          "output_type": "stream",
          "text": [
            "                             Id  Followers  \\\n",
            "0        0DheY5irMjBUeLybbCUEZ2        0.0   \n",
            "1        0DlhY15l3wsrnlfGio2bjU        5.0   \n",
            "2        0DmRESX2JknGPQyO15yxg7        0.0   \n",
            "3        0DmhnbHjm1qw6NCYPeZNgJ        0.0   \n",
            "4        0Dn11fWM7vHQ3rinvWEl4E        2.0   \n",
            "...                         ...        ...   \n",
            "1162090  3cOzi726Iav1toV2LRVEjp     4831.0   \n",
            "1162091  6LogY6VMM3jgAE6fPzXeMl       46.0   \n",
            "1162092  19boQkDEIay9GaVAWkUhTa      257.0   \n",
            "1162093  5nvjpU3Y7L6Hpe54QuvDjy     2357.0   \n",
            "1162094  2bP2cNhNBdKXHC6AnqgyVp       40.0   \n",
            "\n",
            "                                                   Name  Popularity  id_genre  \n",
            "0        Armid & Amir Zare Pashai feat. Sara Rouzbehani           0         1  \n",
            "1                                           ปูนา ภาวิณี           0         1  \n",
            "2                                                 Sadaa           0         1  \n",
            "3                                             Tra gruda           0         1  \n",
            "4                                Ioannis Panoutsopoulos           0         1  \n",
            "...                                                 ...         ...       ...  \n",
            "1162090                                      Ali Siddiq          34         2  \n",
            "1162091                                    Rodney Laney           2         1  \n",
            "1162092                                    Blake Wexler          10         1  \n",
            "1162093                                Donnell Rawlings          15         2  \n",
            "1162094                                        Gabe Kea           8         2  \n",
            "\n",
            "[1162095 rows x 5 columns]\n"
          ]
        }
      ],
      "source": [
        "print(artists_df)"
      ]
    },
    {
      "cell_type": "code",
      "execution_count": 79,
      "metadata": {},
      "outputs": [],
      "source": [
        "#guardar en un csv el df de artist modificado\n",
        "artists_df.to_csv('artists_new.csv', index=False)"
      ]
    },
    {
      "cell_type": "code",
      "execution_count": null,
      "metadata": {},
      "outputs": [],
      "source": [
        "#Se crea una tupla entre canción y aristas para poder relacionarlas\n"
      ]
    },
    {
      "cell_type": "code",
      "execution_count": 189,
      "metadata": {},
      "outputs": [
        {
          "ename": "DuplicateTable",
          "evalue": "la relación «genres» ya existe\n",
          "output_type": "error",
          "traceback": [
            "\u001b[1;31m---------------------------------------------------------------------------\u001b[0m",
            "\u001b[1;31mDuplicateTable\u001b[0m                            Traceback (most recent call last)",
            "Cell \u001b[1;32mIn[189], line 13\u001b[0m\n\u001b[0;32m      6\u001b[0m table_name \u001b[39m=\u001b[39m \u001b[39m'\u001b[39m\u001b[39mgenres\u001b[39m\u001b[39m'\u001b[39m\n\u001b[0;32m      7\u001b[0m create_table_query \u001b[39m=\u001b[39m \u001b[39m'''\u001b[39m\n\u001b[0;32m      8\u001b[0m \u001b[39mCREATE TABLE \u001b[39m\u001b[39m{}\u001b[39;00m\u001b[39m (\u001b[39m\n\u001b[0;32m      9\u001b[0m \u001b[39m     id SERIAL PRIMARY KEY ,\u001b[39m\n\u001b[0;32m     10\u001b[0m \u001b[39m     Main_genre TEXT\u001b[39m\n\u001b[0;32m     11\u001b[0m \u001b[39m)\u001b[39m\n\u001b[0;32m     12\u001b[0m \u001b[39m'''\u001b[39m\u001b[39m.\u001b[39mformat(table_name)\n\u001b[1;32m---> 13\u001b[0m cursor\u001b[39m.\u001b[39;49mexecute(create_table_query)\n\u001b[0;32m     14\u001b[0m conn\u001b[39m.\u001b[39mcommit()\n\u001b[0;32m     16\u001b[0m \u001b[39m# Insertar los datos del DataFrame en la tabla\u001b[39;00m\n",
            "\u001b[1;31mDuplicateTable\u001b[0m: la relación «genres» ya existe\n"
          ]
        }
      ],
      "source": [
        "## CREAR Y CARGAR TABLA GENRES\n",
        "# Crear un cursor para ejecutar comandos en la base de datos\n",
        "cursor = conn.cursor()\n",
        "\n",
        "# Crear una tabla en la base de datos\n",
        "table_name = 'genres'\n",
        "create_table_query = '''\n",
        "CREATE TABLE {} (\n",
        "     id SERIAL PRIMARY KEY ,\n",
        "     Main_genre TEXT\n",
        ")\n",
        "'''.format(table_name)\n",
        "cursor.execute(create_table_query)\n",
        "conn.commit()\n",
        "\n",
        "# Insertar los datos del DataFrame en la tabla\n",
        "df = pd.read_csv('genres.csv')\n",
        "for index, row in df.iterrows():\n",
        "    insert_row_query = '''\n",
        "    INSERT INTO {} (id, Main_genre)\n",
        "    VALUES ('{}', '{}')\n",
        "    '''.format(table_name, row['id'], row['Main_genre'])\n",
        "    cursor.execute(insert_row_query)\n",
        "conn.commit()\n",
        "\n",
        "\n"
      ]
    },
    {
      "cell_type": "code",
      "execution_count": null,
      "metadata": {},
      "outputs": [],
      "source": []
    },
    {
      "cell_type": "code",
      "execution_count": 345,
      "metadata": {},
      "outputs": [],
      "source": [
        "## CREAR Y CARGAR TABLA arts_tracks\n",
        "# Crear un cursor para ejecutar comandos en la base de datos\n",
        "#cursor = conn.cursor()\n",
        "\n",
        "# Crear una tabla en la base de datos\n",
        "table_name = 'arts_tracks'\n",
        "create_table_query = '''\n",
        "CREATE TABLE {} (\n",
        "     Id VARCHAR(300),\n",
        "     artistas VARCHAR(300)\n",
        ")\n",
        "'''.format(table_name)\n",
        "cursor.execute(create_table_query)\n",
        "conn.commit()\n",
        "\n",
        "# Insertar los datos del DataFrame en la tabla\n",
        "df = pd.read_csv('inter.csv')\n",
        "for index, row in df.iterrows():\n",
        "    insert_row_query = '''\n",
        "    INSERT INTO {} (Id, artistas)\n",
        "    VALUES ('{}', '{}')\n",
        "    '''.format(table_name, row['Id'], row['artistas'])\n",
        "    cursor.execute(insert_row_query)\n",
        "conn.commit()\n",
        "\n",
        "conn.close()"
      ]
    },
    {
      "cell_type": "code",
      "execution_count": 113,
      "metadata": {},
      "outputs": [],
      "source": [
        "arts_tracks = arts_tracks[arts_tracks['Id'] != '4y8e4e5TAOrJwG0yTo8Pus']"
      ]
    },
    {
      "cell_type": "code",
      "execution_count": 89,
      "metadata": {},
      "outputs": [],
      "source": [
        "## CREAR Y CARGAR TABLA ARTISTS\n",
        "\n",
        "# Crear una tabla en la base de datos\n",
        "table_name = 'artists'\n",
        "create_table_query = '''\n",
        "CREATE TABLE {} (\n",
        "     Id VARCHAR(50) PRIMARY KEY REFERENCES arts_tracks(artistas),\n",
        "     Followers NUMERIC,\n",
        "     Name VARCHAR(300),\n",
        "     Popularity NUMERIC,\n",
        "     id_genre INTEGER REFERENCES genres(id)\n",
        ")\n",
        "'''.format(table_name)\n",
        "cursor.execute(create_table_query)\n",
        "conn.commit()\n",
        "\n",
        "# Insertar los datos del DataFrame en la tabla\n",
        "df = pd.read_csv('artists_new.csv')\n",
        "for index, row in df.iterrows():\n",
        "    insert_row_query = '''\n",
        "    INSERT INTO {} (Id, Followers, Name, Popularity, id_genre )\n",
        "    VALUES ('{}', '{}', '{}', '{}', '{}')\n",
        "    '''.format(table_name, row['Id'], row['Followers'], row['Name'], row['Popularity'], row['id_genre'])\n",
        "    cursor.execute(insert_row_query)\n",
        "conn.commit()\n",
        "\n",
        "# Cerrar la conexión a la base de datos\n",
        "#cursor.close()\n",
        "#conn.close()"
      ]
    },
    {
      "cell_type": "code",
      "execution_count": 128,
      "metadata": {},
      "outputs": [
        {
          "name": "stderr",
          "output_type": "stream",
          "text": [
            "C:\\Users\\natal\\AppData\\Local\\Temp\\ipykernel_340\\2896658856.py:2: FutureWarning: The default value of regex will change from True to False in a future version. In addition, single character regular expressions will *not* be treated as literal strings when regex=True.\n",
            "  tracks_df['artists'] = tracks_df['artists'].str.replace(\"[\", \"\").str.replace(\"]\", \"\").str.replace(\"'\", \"\")\n",
            "C:\\Users\\natal\\AppData\\Local\\Temp\\ipykernel_340\\2896658856.py:3: FutureWarning: The default value of regex will change from True to False in a future version. In addition, single character regular expressions will *not* be treated as literal strings when regex=True.\n",
            "  tracks_df['id_artists'] = tracks_df['id_artists'].str.replace(\"[\", \"\").str.replace(\"]\", \"\").str.replace(\"'\", \"\")\n"
          ]
        }
      ],
      "source": [
        "#Se eliminan los corchetes cuadrados y las comillas que tienen artist y artist_id en el df tracks\n",
        "tracks_df['artists'] = tracks_df['artists'].str.replace(\"[\", \"\").str.replace(\"]\", \"\").str.replace(\"'\", \"\")\n",
        "tracks_df['id_artists'] = tracks_df['id_artists'].str.replace(\"[\", \"\").str.replace(\"]\", \"\").str.replace(\"'\", \"\")\n",
        "tracks_df['name'] = tracks_df['name'].str.replace(\"'\", \"\")"
      ]
    },
    {
      "cell_type": "code",
      "execution_count": 129,
      "metadata": {},
      "outputs": [
        {
          "name": "stdout",
          "output_type": "stream",
          "text": [
            "                            id                                 name  \\\n",
            "0       35iwgR4jXetI318WEWsa1Q                                Carve   \n",
            "1       021ht4sdgPcrDgSk7JTbKY  Capítulo 2.16 - Banquero Anarquista   \n",
            "2       07A5yehtSnoedViJAZkNnc   Vivo para Quererte - Remasterizado   \n",
            "3       08FmqUhxtyLTn6pAh6bk45        El Prisionero - Remasterizado   \n",
            "4       08y9GfoqCWfOGsKdwojr5e                  Lady of the Evening   \n",
            "...                        ...                                  ...   \n",
            "586596  5rgu12WBIHQtvej2MdHSH0                                  云与海   \n",
            "586597  0NuWgxEp51CutD2pJoF4OM                                blind   \n",
            "586598  27Y1N4Q4U3EfDU5Ubw8ws2             What Theyll Say About Us   \n",
            "586599  45XJsGpFTyzbzeWK8VzR8S                      A Day At A Time   \n",
            "586600  5Ocn6dZ3BJFPWh4ylwFXtn                     Mar de Emociones   \n",
            "\n",
            "        popularity  duration_min  explicit                    artists  \\\n",
            "0                6      2.115050         0                        Uli   \n",
            "1                0      1.636667         0            Fernando Pessoa   \n",
            "2                0      3.027333         0            Ignacio Corsini   \n",
            "3               27      2.948450         0            Ignacio Corsini   \n",
            "4                0      2.718000         0                Dick Haymes   \n",
            "...            ...           ...       ...                        ...   \n",
            "586596          50      4.304450         0                    阿YueYue   \n",
            "586597          72      2.554883         0                 ROLE MODEL   \n",
            "586598          70      3.126683         0                    FINNEAS   \n",
            "586599          58      2.366717         0  Gentle Bones, Clara Benin   \n",
            "586600          27      3.572667         0                  Afrosound   \n",
            "\n",
            "                                            id_artists  release_date  \\\n",
            "0                               45tIt06XoI0Iio4LBEVpls          1922   \n",
            "1                               14jtPCOoNZwquk5wd9DxrY          1922   \n",
            "2                               5LiOoJbxVSAMkBS2fUm3X2          1922   \n",
            "3                               5LiOoJbxVSAMkBS2fUm3X2          1922   \n",
            "4                               3BiJGZsyX9sJchTqcSA7Su          1922   \n",
            "...                                                ...           ...   \n",
            "586596                          1QLBXKM5GCpyQQSVMNZqrZ          2020   \n",
            "586597                          1dy5WNgIKQU6ezkpZs4y8z          2020   \n",
            "586598                          37M5pPGs6V1fchFJSgCguX          2020   \n",
            "586599  4jGPdu95icCKVF31CcFKbS, 5ebPSE9YI5aLeZ1Z2gkqjn          2021   \n",
            "586600                          0i4Qda0k4nf7jnNHmSNpYv          2015   \n",
            "\n",
            "        danceability    energy   key  loudness  mode speechiness  \\\n",
            "0              0.645  0.445000   0.0   -13.338   1.0    Medio SP   \n",
            "1              0.695  0.263000   0.0   -22.136   1.0     Alto SP   \n",
            "2              0.434  0.177000   1.0   -21.180   1.0     Bajo SP   \n",
            "3              0.321  0.542195   7.0   -27.961   1.0     Bajo SP   \n",
            "4              0.402  0.158000   3.0   -16.900   0.0     Bajo SP   \n",
            "...              ...       ...   ...       ...   ...         ...   \n",
            "586596         0.560  0.518000   0.0    -7.471   0.0     Bajo SP   \n",
            "586597         0.765  0.663000   0.0    -5.223   1.0     Bajo SP   \n",
            "586598         0.535  0.314000   7.0   -12.823   0.0     Bajo SP   \n",
            "586599         0.696  0.615000  10.0    -6.212   1.0     Bajo SP   \n",
            "586600         0.686  0.723000   6.0    -7.067   1.0     Bajo SP   \n",
            "\n",
            "        acousticness  instrumentalness  liveness   valence    tempo  \\\n",
            "0              0.674          0.744000    0.1510  0.127000  104.851   \n",
            "1              0.797          0.000000    0.1480  0.655000  102.009   \n",
            "2              0.994          0.021800    0.2120  0.457000  130.418   \n",
            "3              0.995          0.918000    0.1040  0.397000  169.980   \n",
            "4              0.989          0.130000    0.3110  0.196000  103.220   \n",
            "...              ...               ...       ...       ...      ...   \n",
            "586596         0.785          0.000000    0.0648  0.211000  131.896   \n",
            "586597         0.141          0.000297    0.0924  0.686000  150.091   \n",
            "586598         0.895          0.000150    0.0874  0.552275  145.095   \n",
            "586599         0.206          0.000003    0.3050  0.438000   90.029   \n",
            "586600         0.105          0.000000    0.2640  0.975000  112.204   \n",
            "\n",
            "        time_signature  \n",
            "0                  3.0  \n",
            "1                  1.0  \n",
            "2                  5.0  \n",
            "3                  3.0  \n",
            "4                  4.0  \n",
            "...                ...  \n",
            "586596             4.0  \n",
            "586597             4.0  \n",
            "586598             4.0  \n",
            "586599             4.0  \n",
            "586600             4.0  \n",
            "\n",
            "[586601 rows x 20 columns]\n"
          ]
        }
      ],
      "source": [
        "print(tracks_df)"
      ]
    },
    {
      "cell_type": "code",
      "execution_count": 53,
      "metadata": {},
      "outputs": [],
      "source": [
        "arts_tracks = tracks_df.assign(artistas=tracks_df.id_artists.str.split(', ')) \\\n",
        "                                 .explode('artistas')"
      ]
    },
    {
      "cell_type": "code",
      "execution_count": 56,
      "metadata": {},
      "outputs": [
        {
          "name": "stdout",
          "output_type": "stream",
          "text": [
            "                            id                artistas\n",
            "0       35iwgR4jXetI318WEWsa1Q  45tIt06XoI0Iio4LBEVpls\n",
            "1       021ht4sdgPcrDgSk7JTbKY  14jtPCOoNZwquk5wd9DxrY\n",
            "2       07A5yehtSnoedViJAZkNnc  5LiOoJbxVSAMkBS2fUm3X2\n",
            "3       08FmqUhxtyLTn6pAh6bk45  5LiOoJbxVSAMkBS2fUm3X2\n",
            "4       08y9GfoqCWfOGsKdwojr5e  3BiJGZsyX9sJchTqcSA7Su\n",
            "...                        ...                     ...\n",
            "586597  0NuWgxEp51CutD2pJoF4OM  1dy5WNgIKQU6ezkpZs4y8z\n",
            "586598  27Y1N4Q4U3EfDU5Ubw8ws2  37M5pPGs6V1fchFJSgCguX\n",
            "586599  45XJsGpFTyzbzeWK8VzR8S  4jGPdu95icCKVF31CcFKbS\n",
            "586599  45XJsGpFTyzbzeWK8VzR8S  5ebPSE9YI5aLeZ1Z2gkqjn\n",
            "586600  5Ocn6dZ3BJFPWh4ylwFXtn  0i4Qda0k4nf7jnNHmSNpYv\n",
            "\n",
            "[757099 rows x 2 columns]\n"
          ]
        }
      ],
      "source": [
        "print(arts_tracks)"
      ]
    },
    {
      "cell_type": "code",
      "execution_count": 55,
      "metadata": {},
      "outputs": [],
      "source": [
        "arts_tracks = arts_tracks[[\"id\",\"artistas\"]]"
      ]
    },
    {
      "cell_type": "code",
      "execution_count": 320,
      "metadata": {},
      "outputs": [],
      "source": [
        "arts_tracks = arts_tracks[arts_tracks['artistas'] != '5jGD3ChVOXHYNKybvareH0']"
      ]
    },
    {
      "cell_type": "code",
      "execution_count": 321,
      "metadata": {},
      "outputs": [],
      "source": [
        "arts_tracks.to_csv('inter.csv', index=False)"
      ]
    },
    {
      "cell_type": "code",
      "execution_count": 336,
      "metadata": {},
      "outputs": [],
      "source": [
        "tabla_nueva = arts_tracks.iloc[:360]"
      ]
    },
    {
      "cell_type": "code",
      "execution_count": 337,
      "metadata": {},
      "outputs": [],
      "source": [
        "tabla_nueva.to_csv('inter2.csv', index=False)"
      ]
    },
    {
      "cell_type": "code",
      "execution_count": 94,
      "metadata": {},
      "outputs": [],
      "source": [
        "arts_tracks = arts_tracks.rename(columns={'id': 'Id'})"
      ]
    },
    {
      "cell_type": "code",
      "execution_count": 106,
      "metadata": {},
      "outputs": [],
      "source": [
        "columnas_a_considerar = ['Id', 'artistas'] # las columnas que deseas conservar de la tabla1\n",
        "tabla_cruzada = pd.merge(arts_tracks, artists_df, on='Id', how='left')"
      ]
    },
    {
      "cell_type": "code",
      "execution_count": 107,
      "metadata": {},
      "outputs": [
        {
          "name": "stdout",
          "output_type": "stream",
          "text": [
            "                            Id                artistas  Followers Name  \\\n",
            "0       35iwgR4jXetI318WEWsa1Q  45tIt06XoI0Iio4LBEVpls        NaN  NaN   \n",
            "1       021ht4sdgPcrDgSk7JTbKY  14jtPCOoNZwquk5wd9DxrY        NaN  NaN   \n",
            "2       07A5yehtSnoedViJAZkNnc  5LiOoJbxVSAMkBS2fUm3X2        NaN  NaN   \n",
            "3       08FmqUhxtyLTn6pAh6bk45  5LiOoJbxVSAMkBS2fUm3X2        NaN  NaN   \n",
            "4       08y9GfoqCWfOGsKdwojr5e  3BiJGZsyX9sJchTqcSA7Su        NaN  NaN   \n",
            "...                        ...                     ...        ...  ...   \n",
            "756761  0NuWgxEp51CutD2pJoF4OM  1dy5WNgIKQU6ezkpZs4y8z        NaN  NaN   \n",
            "756762  27Y1N4Q4U3EfDU5Ubw8ws2  37M5pPGs6V1fchFJSgCguX        NaN  NaN   \n",
            "756763  45XJsGpFTyzbzeWK8VzR8S  4jGPdu95icCKVF31CcFKbS        NaN  NaN   \n",
            "756764  45XJsGpFTyzbzeWK8VzR8S  5ebPSE9YI5aLeZ1Z2gkqjn        NaN  NaN   \n",
            "756765  5Ocn6dZ3BJFPWh4ylwFXtn  0i4Qda0k4nf7jnNHmSNpYv        NaN  NaN   \n",
            "\n",
            "        Popularity  id_genre  \n",
            "0              NaN       NaN  \n",
            "1              NaN       NaN  \n",
            "2              NaN       NaN  \n",
            "3              NaN       NaN  \n",
            "4              NaN       NaN  \n",
            "...            ...       ...  \n",
            "756761         NaN       NaN  \n",
            "756762         NaN       NaN  \n",
            "756763         NaN       NaN  \n",
            "756764         NaN       NaN  \n",
            "756765         NaN       NaN  \n",
            "\n",
            "[756766 rows x 6 columns]\n"
          ]
        }
      ],
      "source": [
        "print(tabla_cruzada)"
      ]
    },
    {
      "cell_type": "code",
      "execution_count": 223,
      "metadata": {},
      "outputs": [
        {
          "name": "stdout",
          "output_type": "stream",
          "text": [
            "                            Id                artistas\n",
            "0       35iwgR4jXetI318WEWsa1Q  45tIt06XoI0Iio4LBEVpls\n",
            "1       021ht4sdgPcrDgSk7JTbKY  14jtPCOoNZwquk5wd9DxrY\n",
            "2       07A5yehtSnoedViJAZkNnc  5LiOoJbxVSAMkBS2fUm3X2\n",
            "3       08FmqUhxtyLTn6pAh6bk45  5LiOoJbxVSAMkBS2fUm3X2\n",
            "4       08y9GfoqCWfOGsKdwojr5e  3BiJGZsyX9sJchTqcSA7Su\n",
            "...                        ...                     ...\n",
            "586597  0NuWgxEp51CutD2pJoF4OM  1dy5WNgIKQU6ezkpZs4y8z\n",
            "586598  27Y1N4Q4U3EfDU5Ubw8ws2  37M5pPGs6V1fchFJSgCguX\n",
            "586599  45XJsGpFTyzbzeWK8VzR8S  4jGPdu95icCKVF31CcFKbS\n",
            "586599  45XJsGpFTyzbzeWK8VzR8S  5ebPSE9YI5aLeZ1Z2gkqjn\n",
            "586600  5Ocn6dZ3BJFPWh4ylwFXtn  0i4Qda0k4nf7jnNHmSNpYv\n",
            "\n",
            "[756741 rows x 2 columns]\n"
          ]
        }
      ],
      "source": [
        "print(arts_tracks)"
      ]
    },
    {
      "cell_type": "code",
      "execution_count": 23,
      "metadata": {},
      "outputs": [
        {
          "ename": "ForeignKeyViolation",
          "evalue": "inserción o actualización en la tabla «tracks» viola la llave foránea «tracks_id_artists_fkey»\nDETAIL:  La llave (id_artists)=(3BiJGZsyX9sJchTqcSA7Su, 58wzyK6DupVsypvs3QV2Fo, 6lXiGaWjISZnER53ZJe6QO) no está presente en la tabla «artists».\n",
          "output_type": "error",
          "traceback": [
            "\u001b[1;31m---------------------------------------------------------------------------\u001b[0m",
            "\u001b[1;31mForeignKeyViolation\u001b[0m                       Traceback (most recent call last)",
            "Cell \u001b[1;32mIn[23], line 41\u001b[0m\n\u001b[0;32m     36\u001b[0m \u001b[39mfor\u001b[39;00m index, row \u001b[39min\u001b[39;00m df\u001b[39m.\u001b[39miterrows():\n\u001b[0;32m     37\u001b[0m     insert_row_query \u001b[39m=\u001b[39m \u001b[39m'''\u001b[39m\n\u001b[0;32m     38\u001b[0m \u001b[39m    INSERT INTO \u001b[39m\u001b[39m{}\u001b[39;00m\u001b[39m (id, name, popularity, duration_min, explicit, artists, id_artists, release_date, danceability, energy, key, loudness, mode, speechiness, acousticness, instrumentalness, liveness, valence, tempo, time_signature)\u001b[39m\n\u001b[0;32m     39\u001b[0m \u001b[39m    VALUES (\u001b[39m\u001b[39m'\u001b[39m\u001b[39m{}\u001b[39;00m\u001b[39m'\u001b[39m\u001b[39m, \u001b[39m\u001b[39m'\u001b[39m\u001b[39m{}\u001b[39;00m\u001b[39m'\u001b[39m\u001b[39m, \u001b[39m\u001b[39m'\u001b[39m\u001b[39m{}\u001b[39;00m\u001b[39m'\u001b[39m\u001b[39m, \u001b[39m\u001b[39m'\u001b[39m\u001b[39m{}\u001b[39;00m\u001b[39m'\u001b[39m\u001b[39m, \u001b[39m\u001b[39m'\u001b[39m\u001b[39m{}\u001b[39;00m\u001b[39m'\u001b[39m\u001b[39m, \u001b[39m\u001b[39m'\u001b[39m\u001b[39m{}\u001b[39;00m\u001b[39m'\u001b[39m\u001b[39m, \u001b[39m\u001b[39m'\u001b[39m\u001b[39m{}\u001b[39;00m\u001b[39m'\u001b[39m\u001b[39m, \u001b[39m\u001b[39m'\u001b[39m\u001b[39m{}\u001b[39;00m\u001b[39m'\u001b[39m\u001b[39m, \u001b[39m\u001b[39m'\u001b[39m\u001b[39m{}\u001b[39;00m\u001b[39m'\u001b[39m\u001b[39m, \u001b[39m\u001b[39m'\u001b[39m\u001b[39m{}\u001b[39;00m\u001b[39m'\u001b[39m\u001b[39m, \u001b[39m\u001b[39m'\u001b[39m\u001b[39m{}\u001b[39;00m\u001b[39m'\u001b[39m\u001b[39m, \u001b[39m\u001b[39m'\u001b[39m\u001b[39m{}\u001b[39;00m\u001b[39m'\u001b[39m\u001b[39m, \u001b[39m\u001b[39m'\u001b[39m\u001b[39m{}\u001b[39;00m\u001b[39m'\u001b[39m\u001b[39m, \u001b[39m\u001b[39m'\u001b[39m\u001b[39m{}\u001b[39;00m\u001b[39m'\u001b[39m\u001b[39m, \u001b[39m\u001b[39m'\u001b[39m\u001b[39m{}\u001b[39;00m\u001b[39m'\u001b[39m\u001b[39m, \u001b[39m\u001b[39m'\u001b[39m\u001b[39m{}\u001b[39;00m\u001b[39m'\u001b[39m\u001b[39m, \u001b[39m\u001b[39m'\u001b[39m\u001b[39m{}\u001b[39;00m\u001b[39m'\u001b[39m\u001b[39m, \u001b[39m\u001b[39m'\u001b[39m\u001b[39m{}\u001b[39;00m\u001b[39m'\u001b[39m\u001b[39m, \u001b[39m\u001b[39m'\u001b[39m\u001b[39m{}\u001b[39;00m\u001b[39m'\u001b[39m\u001b[39m, \u001b[39m\u001b[39m'\u001b[39m\u001b[39m{}\u001b[39;00m\u001b[39m'\u001b[39m\u001b[39m)\u001b[39m\n\u001b[0;32m     40\u001b[0m \u001b[39m    \u001b[39m\u001b[39m'''\u001b[39m\u001b[39m.\u001b[39mformat(table_name, row[\u001b[39m'\u001b[39m\u001b[39mid\u001b[39m\u001b[39m'\u001b[39m], row[\u001b[39m'\u001b[39m\u001b[39mname\u001b[39m\u001b[39m'\u001b[39m], row[\u001b[39m'\u001b[39m\u001b[39mpopularity\u001b[39m\u001b[39m'\u001b[39m], row[\u001b[39m'\u001b[39m\u001b[39mduration_min\u001b[39m\u001b[39m'\u001b[39m], row[\u001b[39m'\u001b[39m\u001b[39mexplicit\u001b[39m\u001b[39m'\u001b[39m], row[\u001b[39m'\u001b[39m\u001b[39martists\u001b[39m\u001b[39m'\u001b[39m], row[\u001b[39m'\u001b[39m\u001b[39mid_artists\u001b[39m\u001b[39m'\u001b[39m], row[\u001b[39m'\u001b[39m\u001b[39mrelease_date\u001b[39m\u001b[39m'\u001b[39m], row[\u001b[39m'\u001b[39m\u001b[39mdanceability\u001b[39m\u001b[39m'\u001b[39m], row[\u001b[39m'\u001b[39m\u001b[39menergy\u001b[39m\u001b[39m'\u001b[39m], row[\u001b[39m'\u001b[39m\u001b[39mkey\u001b[39m\u001b[39m'\u001b[39m], row[\u001b[39m'\u001b[39m\u001b[39mloudness\u001b[39m\u001b[39m'\u001b[39m], row[\u001b[39m'\u001b[39m\u001b[39mmode\u001b[39m\u001b[39m'\u001b[39m], row[\u001b[39m'\u001b[39m\u001b[39mspeechiness\u001b[39m\u001b[39m'\u001b[39m], row[\u001b[39m'\u001b[39m\u001b[39macousticness\u001b[39m\u001b[39m'\u001b[39m], row[\u001b[39m'\u001b[39m\u001b[39minstrumentalness\u001b[39m\u001b[39m'\u001b[39m], row[\u001b[39m'\u001b[39m\u001b[39mliveness\u001b[39m\u001b[39m'\u001b[39m], row[\u001b[39m'\u001b[39m\u001b[39mvalence\u001b[39m\u001b[39m'\u001b[39m], row[\u001b[39m'\u001b[39m\u001b[39mtempo\u001b[39m\u001b[39m'\u001b[39m], row[\u001b[39m'\u001b[39m\u001b[39mtime_signature\u001b[39m\u001b[39m'\u001b[39m])\n\u001b[1;32m---> 41\u001b[0m     cursor\u001b[39m.\u001b[39;49mexecute(insert_row_query)\n\u001b[0;32m     42\u001b[0m conn\u001b[39m.\u001b[39mcommit()\n\u001b[0;32m     44\u001b[0m \u001b[39m# Cerrar la conexión a la base de datos\u001b[39;00m\n",
            "\u001b[1;31mForeignKeyViolation\u001b[0m: inserción o actualización en la tabla «tracks» viola la llave foránea «tracks_id_artists_fkey»\nDETAIL:  La llave (id_artists)=(3BiJGZsyX9sJchTqcSA7Su, 58wzyK6DupVsypvs3QV2Fo, 6lXiGaWjISZnER53ZJe6QO) no está presente en la tabla «artists».\n"
          ]
        }
      ],
      "source": [
        "## CREAR Y CARGAR TABLA TRACKS\n",
        "# Crear un cursor para ejecutar comandos en la base de datos\n",
        "#cursor = conn.cursor()\n",
        "\n",
        "# Crear una tabla en la base de datos\n",
        "table_name = 'tracks'\n",
        "create_table_query = '''\n",
        "CREATE TABLE {} (\n",
        "     id VARCHAR(50) PRIMARY KEY,\n",
        "     name TEXT,\n",
        "     popularity NUMERIC,\n",
        "     duration_min NUMERIC,\n",
        "     explicit NUMERIC,\n",
        "     artists VARCHAR(5000),\n",
        "     id_artists VARCHAR(5000) REFERENCES artists(Id),\n",
        "     release_date NUMERIC,\n",
        "     danceability NUMERIC,\n",
        "     energy NUMERIC,\n",
        "     key NUMERIC,\n",
        "     loudness NUMERIC,\n",
        "     mode NUMERIC,\n",
        "     speechiness TEXT,\n",
        "     acousticness NUMERIC,\n",
        "     instrumentalness NUMERIC,\n",
        "     liveness NUMERIC,\n",
        "     valence NUMERIC,\n",
        "     tempo NUMERIC,\n",
        "     time_signature NUMERIC\n",
        ")\n",
        "'''.format(table_name)\n",
        "cursor.execute(create_table_query)\n",
        "conn.commit()\n",
        "\n",
        "# Insertar los datos del DataFrame en la tabla\n",
        "df = pd.read_csv('tracks_new.csv')\n",
        "for index, row in df.iterrows():\n",
        "    insert_row_query = '''\n",
        "    INSERT INTO {} (id, name, popularity, duration_min, explicit, artists, id_artists, release_date, danceability, energy, key, loudness, mode, speechiness, acousticness, instrumentalness, liveness, valence, tempo, time_signature)\n",
        "    VALUES ('{}', '{}', '{}', '{}', '{}', '{}', '{}', '{}', '{}', '{}', '{}', '{}', '{}', '{}', '{}', '{}', '{}', '{}', '{}', '{}')\n",
        "    '''.format(table_name, row['id'], row['name'], row['popularity'], row['duration_min'], row['explicit'], row['artists'], row['id_artists'], row['release_date'], row['danceability'], row['energy'], row['key'], row['loudness'], row['mode'], row['speechiness'], row['acousticness'], row['instrumentalness'], row['liveness'], row['valence'], row['tempo'], row['time_signature'])\n",
        "    cursor.execute(insert_row_query)\n",
        "conn.commit()\n",
        "\n",
        "# Cerrar la conexión a la base de datos\n",
        "cursor.close()\n",
        "conn.close()"
      ]
    },
    {
      "cell_type": "code",
      "execution_count": 342,
      "metadata": {},
      "outputs": [],
      "source": [
        "conn.close()"
      ]
    }
  ],
  "metadata": {
    "colab": {
      "provenance": []
    },
    "kernelspec": {
      "display_name": "Python 3",
      "name": "python3"
    },
    "language_info": {
      "codemirror_mode": {
        "name": "ipython",
        "version": 3
      },
      "file_extension": ".py",
      "mimetype": "text/x-python",
      "name": "python",
      "nbconvert_exporter": "python",
      "pygments_lexer": "ipython3",
      "version": "3.11.1"
    }
  },
  "nbformat": 4,
  "nbformat_minor": 0
}
